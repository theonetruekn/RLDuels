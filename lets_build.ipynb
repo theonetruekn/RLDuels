{
 "cells": [
  {
   "cell_type": "code",
   "execution_count": 1,
   "metadata": {},
   "outputs": [],
   "source": [
    "import logging\n",
    "\n",
    "from rlduels.src.primitives.trajectory_pair import Transition, Trajectory, TrajectoryPair, NDArray\n",
    "\n",
    "from rlduels.src.database.database_manager import MongoDBManager\n",
    "\n",
    "from rlduels.src.create_video import create_videos_from_pair\n",
    "\n",
    "from rlduels.src.env_wrapper import EnvWrapper, GymWrapper\n",
    "\n",
    "logging.basicConfig(level=logging.DEBUG,\n",
    "                    format='%(asctime)s - %(levelname)s - %(message)s',\n",
    "                    datefmt='%Y-%m-%d %H:%M:%S')"
   ]
  },
  {
   "cell_type": "code",
   "execution_count": 2,
   "metadata": {},
   "outputs": [
    {
     "name": "stdout",
     "output_type": "stream",
     "text": [
      "Episode 1: Total reward = 71.0\n",
      "Episode 2: Total reward = 11.0\n"
     ]
    }
   ],
   "source": [
    "from rlduels.src.utils.simulate import simulate_trajectory_pairs\n",
    "\n",
    "tps = simulate_trajectory_pairs(env=\"CartPole-v1\", n=1)"
   ]
  },
  {
   "cell_type": "code",
   "execution_count": 3,
   "metadata": {},
   "outputs": [
    {
     "name": "stdout",
     "output_type": "stream",
     "text": [
      "...\n"
     ]
    }
   ],
   "source": [
    "db = MongoDBManager(test=False)"
   ]
  },
  {
   "cell_type": "code",
   "execution_count": 4,
   "metadata": {},
   "outputs": [
    {
     "name": "stderr",
     "output_type": "stream",
     "text": [
      "2024-05-13 01:34:20 - DEBUG - {\"message\": \"Server selection started\", \"selector\": \"<function writable_server_selector at 0x791c5cefce50>\", \"operation\": \"insert\", \"topologyDescription\": \"<TopologyDescription id: 664151eb729808db8eb38548, topology_type: Single, servers: [<ServerDescription ('localhost', 27017) server_type: Standalone, rtt: 0.0004241530004946981>]>\", \"clientId\": {\"$oid\": \"664151eb729808db8eb38548\"}}\n",
      "2024-05-13 01:34:20 - DEBUG - {\"message\": \"Server selection succeeded\", \"selector\": \"<function writable_server_selector at 0x791c5cefce50>\", \"operation\": \"insert\", \"topologyDescription\": \"<TopologyDescription id: 664151eb729808db8eb38548, topology_type: Single, servers: [<ServerDescription ('localhost', 27017) server_type: Standalone, rtt: 0.0004241530004946981>]>\", \"clientId\": {\"$oid\": \"664151eb729808db8eb38548\"}, \"serverHost\": \"localhost\", \"serverPort\": 27017}\n",
      "2024-05-13 01:34:20 - DEBUG - {\"clientId\": {\"$oid\": \"664151eb729808db8eb38548\"}, \"message\": \"Command started\", \"command\": \"{\\\"insert\\\": \\\"videos\\\", \\\"ordered\\\": true, \\\"lsid\\\": {\\\"id\\\": {\\\"$binary\\\": {\\\"base64\\\": \\\"fWYOFdEpQvuae4oWr3YyNA==\\\", \\\"subType\\\": \\\"04\\\"}}}, \\\"$db\\\": \\\"database\\\", \\\"documents\\\": [{\\\"trajectory1\\\": {\\\"env_name\\\": \\\"CartPole-v1\\\", \\\"information\\\": {\\\"seed\\\": 42}, \\\"transitions\\\": [{\\\"state\\\": {\\\"array\\\": [0.02739560417830944, -0.006112155970185995, 0.03585979342460632, 0.019736802205443382]}, \\\"reward\\\": 1.0, \\\"next_state\\\": {\\\"array\\\": [0.02727336250245571, -0.20172953605651855, 0.036254528909921646, 0.32351475954055786]}}, {\\\"state\\\": {\\\"array\\\": [0.02727336250245571, -0.20172953605651855, 0.036254528909921646, 0.32351475954055786]}, \\\"action\\\": {\\\"array\\\": 1}, \\\"reward\\\": 1.0, \\\"next_state\\\": {\\\"array\\\": [0.02323877066373825, -0.007142078131437302, 0.04272482171654701, 0.042481862008571625]}}, {\\\"state\\\": {\\\"array\\\": [0.02323877066373825, -0.007142078131437302, 0.04272482171654701, 0.042481862008571625]}, \\\"action\\\": {\\\"array\\\": 1}, \\\"reward\\\": 1.0, \\\"next_state\\\": {\\\"array\\\": [0.023095929995179176, 0.18734200298786163, 0.043574459850788116, -0.2364207506...\", \"commandName\": \"insert\", \"databaseName\": \"database\", \"requestId\": 1967513926, \"operationId\": 1967513926, \"driverConnectionId\": 1, \"serverConnectionId\": 3, \"serverHost\": \"localhost\", \"serverPort\": 27017}\n",
      "2024-05-13 01:34:20 - DEBUG - {\"clientId\": {\"$oid\": \"664151eb729808db8eb38548\"}, \"message\": \"Command succeeded\", \"durationMS\": 13.938, \"reply\": \"{\\\"n\\\": 1, \\\"ok\\\": 1.0}\", \"commandName\": \"insert\", \"databaseName\": \"database\", \"requestId\": 1967513926, \"operationId\": 1967513926, \"driverConnectionId\": 1, \"serverConnectionId\": 3, \"serverHost\": \"localhost\", \"serverPort\": 27017}\n",
      "2024-05-13 01:34:20 - DEBUG - {\"message\": \"Server selection started\", \"selector\": \"Primary()\", \"operation\": \"find\", \"topologyDescription\": \"<TopologyDescription id: 664151eb729808db8eb38548, topology_type: Single, servers: [<ServerDescription ('localhost', 27017) server_type: Standalone, rtt: 0.0004241530004946981>]>\", \"clientId\": {\"$oid\": \"664151eb729808db8eb38548\"}}\n",
      "2024-05-13 01:34:20 - DEBUG - {\"message\": \"Server selection succeeded\", \"selector\": \"Primary()\", \"operation\": \"find\", \"topologyDescription\": \"<TopologyDescription id: 664151eb729808db8eb38548, topology_type: Single, servers: [<ServerDescription ('localhost', 27017) server_type: Standalone, rtt: 0.0004241530004946981>]>\", \"clientId\": {\"$oid\": \"664151eb729808db8eb38548\"}, \"serverHost\": \"localhost\", \"serverPort\": 27017}\n",
      "2024-05-13 01:34:20 - DEBUG - {\"clientId\": {\"$oid\": \"664151eb729808db8eb38548\"}, \"message\": \"Command started\", \"command\": \"{\\\"find\\\": \\\"videos\\\", \\\"filter\\\": {\\\"_id\\\": \\\"79258707-52fc-4824-95f5-dcb1f44c5fa2\\\"}, \\\"limit\\\": 1, \\\"singleBatch\\\": true, \\\"lsid\\\": {\\\"id\\\": {\\\"$binary\\\": {\\\"base64\\\": \\\"fWYOFdEpQvuae4oWr3YyNA==\\\", \\\"subType\\\": \\\"04\\\"}}}, \\\"$db\\\": \\\"database\\\"}\", \"commandName\": \"find\", \"databaseName\": \"database\", \"requestId\": 1365180540, \"operationId\": 1365180540, \"driverConnectionId\": 1, \"serverConnectionId\": 3, \"serverHost\": \"localhost\", \"serverPort\": 27017}\n",
      "2024-05-13 01:34:20 - DEBUG - {\"clientId\": {\"$oid\": \"664151eb729808db8eb38548\"}, \"message\": \"Command succeeded\", \"durationMS\": 1.503, \"reply\": \"{\\\"cursor\\\": {\\\"firstBatch\\\": [{\\\"_id\\\": \\\"79258707-52fc-4824-95f5-dcb1f44c5fa2\\\", \\\"trajectory1\\\": {\\\"env_name\\\": \\\"CartPole-v1\\\", \\\"information\\\": {\\\"seed\\\": 42}, \\\"transitions\\\": [{\\\"state\\\": {\\\"array\\\": [0.02739560417830944, -0.006112155970185995, 0.03585979342460632, 0.019736802205443382]}, \\\"reward\\\": 1.0, \\\"next_state\\\": {\\\"array\\\": [0.02727336250245571, -0.20172953605651855, 0.036254528909921646, 0.32351475954055786]}}, {\\\"state\\\": {\\\"array\\\": [0.02727336250245571, -0.20172953605651855, 0.036254528909921646, 0.32351475954055786]}, \\\"action\\\": {\\\"array\\\": 1}, \\\"reward\\\": 1.0, \\\"next_state\\\": {\\\"array\\\": [0.02323877066373825, -0.007142078131437302, 0.04272482171654701, 0.042481862008571625]}}, {\\\"state\\\": {\\\"array\\\": [0.02323877066373825, -0.007142078131437302, 0.04272482171654701, 0.042481862008571625]}, \\\"action\\\": {\\\"array\\\": 1}, \\\"reward\\\": 1.0, \\\"next_state\\\": {\\\"array\\\": [0.023095929995179176, 0.18734200298786163, 0.043574459850788116, -0.23642075061798096]}}, {\\\"state\\\": {\\\"array\\\": [0.023095929995179176, 0.18734200298786163, 0.04357...\", \"commandName\": \"find\", \"databaseName\": \"database\", \"requestId\": 1365180540, \"operationId\": 1365180540, \"driverConnectionId\": 1, \"serverConnectionId\": 3, \"serverHost\": \"localhost\", \"serverPort\": 27017}\n",
      "2024-05-13 01:34:20 - ERROR - An error occurred tying to find an entry: 'dict' object has no attribute 'env_name'\n",
      "2024-05-13 01:34:20 - DEBUG - {\"message\": \"Server selection started\", \"selector\": \"<function writable_server_selector at 0x791c5cefce50>\", \"operation\": \"delete\", \"topologyDescription\": \"<TopologyDescription id: 664151eb729808db8eb38548, topology_type: Single, servers: [<ServerDescription ('localhost', 27017) server_type: Standalone, rtt: 0.0004241530004946981>]>\", \"clientId\": {\"$oid\": \"664151eb729808db8eb38548\"}}\n",
      "2024-05-13 01:34:20 - DEBUG - {\"message\": \"Server selection succeeded\", \"selector\": \"<function writable_server_selector at 0x791c5cefce50>\", \"operation\": \"delete\", \"topologyDescription\": \"<TopologyDescription id: 664151eb729808db8eb38548, topology_type: Single, servers: [<ServerDescription ('localhost', 27017) server_type: Standalone, rtt: 0.0004241530004946981>]>\", \"clientId\": {\"$oid\": \"664151eb729808db8eb38548\"}, \"serverHost\": \"localhost\", \"serverPort\": 27017}\n",
      "2024-05-13 01:34:20 - DEBUG - {\"clientId\": {\"$oid\": \"664151eb729808db8eb38548\"}, \"message\": \"Command started\", \"command\": \"{\\\"delete\\\": \\\"videos\\\", \\\"ordered\\\": true, \\\"lsid\\\": {\\\"id\\\": {\\\"$binary\\\": {\\\"base64\\\": \\\"fWYOFdEpQvuae4oWr3YyNA==\\\", \\\"subType\\\": \\\"04\\\"}}}, \\\"$db\\\": \\\"database\\\", \\\"deletes\\\": [{\\\"q\\\": {\\\"_id\\\": \\\"79258707-52fc-4824-95f5-dcb1f44c5fa2\\\"}, \\\"limit\\\": 1}]}\", \"commandName\": \"delete\", \"databaseName\": \"database\", \"requestId\": 1540383426, \"operationId\": 1540383426, \"driverConnectionId\": 1, \"serverConnectionId\": 3, \"serverHost\": \"localhost\", \"serverPort\": 27017}\n",
      "2024-05-13 01:34:20 - DEBUG - {\"clientId\": {\"$oid\": \"664151eb729808db8eb38548\"}, \"message\": \"Command succeeded\", \"durationMS\": 0.7919999999999999, \"reply\": \"{\\\"n\\\": 1, \\\"ok\\\": 1.0}\", \"commandName\": \"delete\", \"databaseName\": \"database\", \"requestId\": 1540383426, \"operationId\": 1540383426, \"driverConnectionId\": 1, \"serverConnectionId\": 3, \"serverHost\": \"localhost\", \"serverPort\": 27017}\n",
      "2024-05-13 01:34:20 - DEBUG - {\"message\": \"Server selection started\", \"selector\": \"Primary()\", \"operation\": \"find\", \"topologyDescription\": \"<TopologyDescription id: 664151eb729808db8eb38548, topology_type: Single, servers: [<ServerDescription ('localhost', 27017) server_type: Standalone, rtt: 0.0004241530004946981>]>\", \"clientId\": {\"$oid\": \"664151eb729808db8eb38548\"}}\n",
      "2024-05-13 01:34:20 - DEBUG - {\"message\": \"Server selection succeeded\", \"selector\": \"Primary()\", \"operation\": \"find\", \"topologyDescription\": \"<TopologyDescription id: 664151eb729808db8eb38548, topology_type: Single, servers: [<ServerDescription ('localhost', 27017) server_type: Standalone, rtt: 0.0004241530004946981>]>\", \"clientId\": {\"$oid\": \"664151eb729808db8eb38548\"}, \"serverHost\": \"localhost\", \"serverPort\": 27017}\n",
      "2024-05-13 01:34:20 - DEBUG - {\"clientId\": {\"$oid\": \"664151eb729808db8eb38548\"}, \"message\": \"Command started\", \"command\": \"{\\\"find\\\": \\\"videos\\\", \\\"filter\\\": {\\\"_id\\\": \\\"79258707-52fc-4824-95f5-dcb1f44c5fa2\\\"}, \\\"limit\\\": 1, \\\"singleBatch\\\": true, \\\"lsid\\\": {\\\"id\\\": {\\\"$binary\\\": {\\\"base64\\\": \\\"fWYOFdEpQvuae4oWr3YyNA==\\\", \\\"subType\\\": \\\"04\\\"}}}, \\\"$db\\\": \\\"database\\\"}\", \"commandName\": \"find\", \"databaseName\": \"database\", \"requestId\": 304089172, \"operationId\": 304089172, \"driverConnectionId\": 1, \"serverConnectionId\": 3, \"serverHost\": \"localhost\", \"serverPort\": 27017}\n",
      "2024-05-13 01:34:20 - DEBUG - {\"clientId\": {\"$oid\": \"664151eb729808db8eb38548\"}, \"message\": \"Command succeeded\", \"durationMS\": 0.6579999999999999, \"reply\": \"{\\\"cursor\\\": {\\\"ns\\\": \\\"database.videos\\\"}, \\\"ok\\\": 1.0}\", \"commandName\": \"find\", \"databaseName\": \"database\", \"requestId\": 304089172, \"operationId\": 304089172, \"driverConnectionId\": 1, \"serverConnectionId\": 3, \"serverHost\": \"localhost\", \"serverPort\": 27017}\n",
      "2024-05-13 01:34:20 - ERROR - No entry found for object with id 79258707-52fc-4824-95f5-dcb1f44c5fa2.\n"
     ]
    },
    {
     "name": "stdout",
     "output_type": "stream",
     "text": [
      "('Added 79258707-52fc-4824-95f5-dcb1f44c5fa2 to the database', None)\n",
      "None\n",
      "('Entry with ID 79258707-52fc-4824-95f5-dcb1f44c5fa2 successfully deleted.', None)\n",
      "None\n"
     ]
    }
   ],
   "source": [
    "x = tps[0]\n",
    "print(db.add_entry(x))\n",
    "print(db.find_entry(x))\n",
    "print(db.delete_entry(x))\n",
    "print(db.find_entry(x))"
   ]
  },
  {
   "cell_type": "code",
   "execution_count": 8,
   "metadata": {},
   "outputs": [
    {
     "name": "stderr",
     "output_type": "stream",
     "text": [
      "2024-05-06 21:36:03 - DEBUG - Deleting every entry from the database.\n",
      "2024-05-06 21:36:03 - INFO - Database closed successfully.\n"
     ]
    }
   ],
   "source": [
    "db.close_db()"
   ]
  },
  {
   "cell_type": "code",
   "execution_count": 9,
   "metadata": {},
   "outputs": [
    {
     "name": "stdout",
     "output_type": "stream",
     "text": [
      "{'trajectory1': {'env_name': 'CartPole-v1', 'information': {'seed': 42}, 'transitions': [{'state': {'array': [0.02739560417830944, -0.006112155970185995, 0.03585979342460632, 0.019736802205443382]}, 'action': {'array': 0}, 'next_state': {'array': [0.02727336250245571, -0.20172953605651855, 0.036254528909921646, 0.32351475954055786]}, 'reward': 1.0, 'terminated': False, 'truncated': False}, {'state': {'array': [0.02727336250245571, -0.20172953605651855, 0.036254528909921646, 0.32351475954055786]}, 'action': {'array': 0}, 'next_state': {'array': [0.02323877066373825, -0.39734846353530884, 0.04272482171654701, 0.6274068355560303]}, 'reward': 1.0, 'terminated': False, 'truncated': False}, {'state': {'array': [0.02323877066373825, -0.39734846353530884, 0.04272482171654701, 0.6274068355560303]}, 'action': {'array': 0}, 'next_state': {'array': [0.015291801653802395, -0.593039870262146, 0.05527295917272568, 0.933233380317688]}, 'reward': 1.0, 'terminated': False, 'truncated': False}, {'state': {'array': [0.015291801653802395, -0.593039870262146, 0.05527295917272568, 0.933233380317688]}, 'action': {'array': 0}, 'next_state': {'array': [0.0034310040064156055, -0.7888622283935547, 0.07393762469291687, 1.2427603006362915]}, 'reward': 1.0, 'terminated': False, 'truncated': False}, {'state': {'array': [0.0034310040064156055, -0.7888622283935547, 0.07393762469291687, 1.2427603006362915]}, 'action': {'array': 1}, 'next_state': {'array': [-0.012346240691840649, -0.5947629809379578, 0.09879283607006073, 0.9741247296333313]}, 'reward': 1.0, 'terminated': False, 'truncated': False}, {'state': {'array': [-0.012346240691840649, -0.5947629809379578, 0.09879283607006073, 0.9741247296333313]}, 'action': {'array': 1}, 'next_state': {'array': [-0.024241501465439796, -0.4010952413082123, 0.11827532947063446, 0.7140374779701233]}, 'reward': 1.0, 'terminated': False, 'truncated': False}, {'state': {'array': [-0.024241501465439796, -0.4010952413082123, 0.11827532947063446, 0.7140374779701233]}, 'action': {'array': 0}, 'next_state': {'array': [-0.03226340562105179, -0.597638726234436, 0.13255608081817627, 1.0414849519729614]}, 'reward': 1.0, 'terminated': False, 'truncated': False}, {'state': {'array': [-0.03226340562105179, -0.597638726234436, 0.13255608081817627, 1.0414849519729614]}, 'action': {'array': 1}, 'next_state': {'array': [-0.044216178357601166, -0.40450260043144226, 0.15338577330112457, 0.7931797504425049]}, 'reward': 1.0, 'terminated': False, 'truncated': False}, {'state': {'array': [-0.044216178357601166, -0.40450260043144226, 0.15338577330112457, 0.7931797504425049]}, 'action': {'array': 1}, 'next_state': {'array': [-0.05230623111128807, -0.21178150177001953, 0.16924937069416046, 0.5524108409881592]}, 'reward': 1.0, 'terminated': False, 'truncated': False}, {'state': {'array': [-0.05230623111128807, -0.21178150177001953, 0.16924937069416046, 0.5524108409881592]}, 'action': {'array': 1}, 'next_state': {'array': [-0.056541863828897476, -0.019390011206269264, 0.1802975833415985, 0.31746917963027954]}, 'reward': 1.0, 'terminated': False, 'truncated': False}, {'state': {'array': [-0.056541863828897476, -0.019390011206269264, 0.1802975833415985, 0.31746917963027954]}, 'action': {'array': 1}, 'next_state': {'array': [-0.05692966282367706, 0.17276738584041595, 0.186646968126297, 0.08662604540586472]}, 'reward': 1.0, 'terminated': False, 'truncated': False}, {'state': {'array': [-0.05692966282367706, 0.17276738584041595, 0.186646968126297, 0.08662604540586472]}, 'action': {'array': 0}, 'next_state': {'array': [-0.053474314510822296, -0.024471301585435867, 0.18837949633598328, 0.431901752948761]}, 'reward': 1.0, 'terminated': False, 'truncated': False}, {'state': {'array': [-0.053474314510822296, -0.024471301585435867, 0.18837949633598328, 0.431901752948761]}, 'action': {'array': 0}, 'next_state': {'array': [-0.053963739424943924, -0.2216912806034088, 0.19701752066612244, 0.7775547504425049]}, 'reward': 1.0, 'terminated': False, 'truncated': False}, {'state': {'array': [-0.053963739424943924, -0.2216912806034088, 0.19701752066612244, 0.7775547504425049]}, 'action': {'array': 1}, 'next_state': {'array': [-0.0583975650370121, -0.029744978994131088, 0.21256862580776215, 0.5527543425559998]}, 'reward': 1.0, 'terminated': True, 'truncated': False}]}, 'trajectory2': {'env_name': 'CartPole-v1', 'information': {'seed': 42}, 'transitions': [{'state': {'array': [0.02739560417830944, -0.006112155970185995, 0.03585979342460632, 0.019736802205443382]}, 'action': {'array': 1}, 'next_state': {'array': [0.02727336250245571, 0.18847766518592834, 0.036254528909921646, -0.26141977310180664]}, 'reward': 1.0, 'terminated': False, 'truncated': False}, {'state': {'array': [0.02727336250245571, 0.18847766518592834, 0.036254528909921646, -0.26141977310180664]}, 'action': {'array': 0}, 'next_state': {'array': [0.0310429148375988, -0.007142550311982632, 0.03102613240480423, 0.04247424006462097]}, 'reward': 1.0, 'terminated': False, 'truncated': False}, {'state': {'array': [0.0310429148375988, -0.007142550311982632, 0.03102613240480423, 0.04247424006462097]}, 'action': {'array': 1}, 'next_state': {'array': [0.03090006485581398, 0.1875210702419281, 0.0318756178021431, -0.24026045203208923]}, 'reward': 1.0, 'terminated': False, 'truncated': False}, {'state': {'array': [0.03090006485581398, 0.1875210702419281, 0.0318756178021431, -0.24026045203208923]}, 'action': {'array': 0}, 'next_state': {'array': [0.03465048596262932, -0.0080413818359375, 0.027070408686995506, 0.062304068356752396]}, 'reward': 1.0, 'terminated': False, 'truncated': False}, {'state': {'array': [0.03465048596262932, -0.0080413818359375, 0.027070408686995506, 0.062304068356752396]}, 'action': {'array': 1}, 'next_state': {'array': [0.03448965772986412, 0.18668219447135925, 0.028316490352153778, -0.22171655297279358]}, 'reward': 1.0, 'terminated': False, 'truncated': False}, {'state': {'array': [0.03448965772986412, 0.18668219447135925, 0.028316490352153778, -0.22171655297279358]}, 'action': {'array': 0}, 'next_state': {'array': [0.038223300129175186, -0.008832814171910286, 0.02388215810060501, 0.07976232469081879]}, 'reward': 1.0, 'terminated': False, 'truncated': False}, {'state': {'array': [0.038223300129175186, -0.008832814171910286, 0.02388215810060501, 0.07976232469081879]}, 'action': {'array': 1}, 'next_state': {'array': [0.03804664686322212, 0.1859387904405594, 0.02547740563750267, -0.20529106259346008]}, 'reward': 1.0, 'terminated': False, 'truncated': False}, {'state': {'array': [0.03804664686322212, 0.1859387904405594, 0.02547740563750267, -0.20529106259346008]}, 'action': {'array': 0}, 'next_state': {'array': [0.041765421628952026, -0.009538063779473305, 0.02137158438563347, 0.09531859308481216]}, 'reward': 1.0, 'terminated': False, 'truncated': False}, {'state': {'array': [0.041765421628952026, -0.009538063779473305, 0.02137158438563347, 0.09531859308481216]}, 'action': {'array': 1}, 'next_state': {'array': [0.04157466068863869, 0.18527115881443024, 0.023277955129742622, -0.19054575264453888]}, 'reward': 1.0, 'terminated': False, 'truncated': False}, {'state': {'array': [0.04157466068863869, 0.18527115881443024, 0.023277955129742622, -0.19054575264453888]}, 'action': {'array': 1}, 'next_state': {'array': [0.045280084013938904, 0.38005250692367554, 0.01946704089641571, -0.4757955074310303]}, 'reward': 1.0, 'terminated': False, 'truncated': False}, {'state': {'array': [0.045280084013938904, 0.38005250692367554, 0.01946704089641571, -0.4757955074310303]}, 'action': {'array': 0}, 'next_state': {'array': [0.05288113281130791, 0.1846611499786377, 0.009951131418347359, -0.17704105377197266]}, 'reward': 1.0, 'terminated': False, 'truncated': False}, {'state': {'array': [0.05288113281130791, 0.1846611499786377, 0.009951131418347359, -0.17704105377197266]}, 'action': {'array': 1}, 'next_state': {'array': [0.05657435581088066, 0.37963929772377014, 0.006410310044884682, -0.4665682017803192]}, 'reward': 1.0, 'terminated': False, 'truncated': False}, {'state': {'array': [0.05657435581088066, 0.37963929772377014, 0.006410310044884682, -0.4665682017803192]}, 'action': {'array': 1}, 'next_state': {'array': [0.06416714191436768, 0.5746700763702393, -0.002921053906902671, -0.7572237849235535]}, 'reward': 1.0, 'terminated': False, 'truncated': False}, {'state': {'array': [0.06416714191436768, 0.5746700763702393, -0.002921053906902671, -0.7572237849235535]}, 'action': {'array': 1}, 'next_state': {'array': [0.07566054165363312, 0.769832193851471, -0.018065528944134712, -1.0508244037628174]}, 'reward': 1.0, 'terminated': False, 'truncated': False}, {'state': {'array': [0.07566054165363312, 0.769832193851471, -0.018065528944134712, -1.0508244037628174]}, 'action': {'array': 0}, 'next_state': {'array': [0.091057188808918, 0.5749544501304626, -0.03908201679587364, -0.7638665437698364]}, 'reward': 1.0, 'terminated': False, 'truncated': False}, {'state': {'array': [0.091057188808918, 0.5749544501304626, -0.03908201679587364, -0.7638665437698364]}, 'action': {'array': 0}, 'next_state': {'array': [0.1025562733411789, 0.3803918957710266, -0.05435934662818909, -0.48373275995254517]}, 'reward': 1.0, 'terminated': False, 'truncated': False}, {'state': {'array': [0.1025562733411789, 0.3803918957710266, -0.05435934662818909, -0.48373275995254517]}, 'action': {'array': 0}, 'next_state': {'array': [0.110164113342762, 0.18607757985591888, -0.06403400003910065, -0.20866557955741882]}, 'reward': 1.0, 'terminated': False, 'truncated': False}, {'state': {'array': [0.110164113342762, 0.18607757985591888, -0.06403400003910065, -0.20866557955741882]}, 'action': {'array': 0}, 'next_state': {'array': [0.11388566344976425, -0.008073089644312859, -0.06820731610059738, 0.06315042823553085]}, 'reward': 1.0, 'terminated': False, 'truncated': False}, {'state': {'array': [0.11388566344976425, -0.008073089644312859, -0.06820731610059738, 0.06315042823553085]}, 'action': {'array': 1}, 'next_state': {'array': [0.11372420191764832, 0.18795713782310486, -0.06694430857896805, -0.25024858117103577]}, 'reward': 1.0, 'terminated': False, 'truncated': False}, {'state': {'array': [0.11372420191764832, 0.18795713782310486, -0.06694430857896805, -0.25024858117103577]}, 'action': {'array': 0}, 'next_state': {'array': [0.11748334765434265, -0.006148138083517551, -0.07194928079843521, 0.02059021033346653]}, 'reward': 1.0, 'terminated': False, 'truncated': False}, {'state': {'array': [0.11748334765434265, -0.006148138083517551, -0.07194928079843521, 0.02059021033346653]}, 'action': {'array': 1}, 'next_state': {'array': [0.11736038327217102, 0.18992793560028076, -0.07153747230768204, -0.293897807598114]}, 'reward': 1.0, 'terminated': False, 'truncated': False}, {'state': {'array': [0.11736038327217102, 0.18992793560028076, -0.07153747230768204, -0.293897807598114]}, 'action': {'array': 0}, 'next_state': {'array': [0.12115894258022308, -0.004105043597519398, -0.07741542905569077, -0.02460683509707451]}, 'reward': 1.0, 'terminated': False, 'truncated': False}, {'state': {'array': [0.12115894258022308, -0.004105043597519398, -0.07741542905569077, -0.02460683509707451]}, 'action': {'array': 0}, 'next_state': {'array': [0.12107683718204498, -0.1980363428592682, -0.07790756970643997, 0.24268145859241486]}, 'reward': 1.0, 'terminated': False, 'truncated': False}, {'state': {'array': [0.12107683718204498, -0.1980363428592682, -0.07790756970643997, 0.24268145859241486]}, 'action': {'array': 1}, 'next_state': {'array': [0.11711611598730087, -0.0018930092919617891, -0.07305394113063812, -0.07352278381586075]}, 'reward': 1.0, 'terminated': False, 'truncated': False}, {'state': {'array': [0.11711611598730087, -0.0018930092919617891, -0.07305394113063812, -0.07352278381586075]}, 'action': {'array': 0}, 'next_state': {'array': [0.1170782521367073, -0.1958957463502884, -0.0745243951678276, 0.1952463835477829]}, 'reward': 1.0, 'terminated': False, 'truncated': False}, {'state': {'array': [0.1170782521367073, -0.1958957463502884, -0.0745243951678276, 0.1952463835477829]}, 'action': {'array': 0}, 'next_state': {'array': [0.11316034197807312, -0.38987693190574646, -0.07061946392059326, 0.4635206460952759]}, 'reward': 1.0, 'terminated': False, 'truncated': False}, {'state': {'array': [0.11316034197807312, -0.38987693190574646, -0.07061946392059326, 0.4635206460952759]}, 'action': {'array': 1}, 'next_state': {'array': [0.10536280274391174, -0.19383178651332855, -0.0613490529358387, 0.14944100379943848]}, 'reward': 1.0, 'terminated': False, 'truncated': False}, {'state': {'array': [0.10536280274391174, -0.19383178651332855, -0.0613490529358387, 0.14944100379943848]}, 'action': {'array': 0}, 'next_state': {'array': [0.10148616135120392, -0.3880240321159363, -0.05836023390293121, 0.42215606570243835]}, 'reward': 1.0, 'terminated': False, 'truncated': False}, {'state': {'array': [0.10148616135120392, -0.3880240321159363, -0.05836023390293121, 0.42215606570243835]}, 'action': {'array': 0}, 'next_state': {'array': [0.09372568130493164, -0.5822727084159851, -0.04991711303591728, 0.6958848237991333]}, 'reward': 1.0, 'terminated': False, 'truncated': False}, {'state': {'array': [0.09372568130493164, -0.5822727084159851, -0.04991711303591728, 0.6958848237991333]}, 'action': {'array': 0}, 'next_state': {'array': [0.08208023011684418, -0.776668131351471, -0.03599941357970238, 0.9724451899528503]}, 'reward': 1.0, 'terminated': False, 'truncated': False}, {'state': {'array': [0.08208023011684418, -0.776668131351471, -0.03599941357970238, 0.9724451899528503]}, 'action': {'array': 0}, 'next_state': {'array': [0.06654686480760574, -0.9712889790534973, -0.016550511121749878, 1.253605842590332]}, 'reward': 1.0, 'terminated': False, 'truncated': False}, {'state': {'array': [0.06654686480760574, -0.9712889790534973, -0.016550511121749878, 1.253605842590332]}, 'action': {'array': 0}, 'next_state': {'array': [0.047121088951826096, -1.166195034980774, 0.008521606214344501, 1.5410593748092651]}, 'reward': 1.0, 'terminated': False, 'truncated': False}, {'state': {'array': [0.047121088951826096, -1.166195034980774, 0.008521606214344501, 1.5410593748092651]}, 'action': {'array': 1}, 'next_state': {'array': [0.023797186091542244, -0.9711766242980957, 0.03934279456734657, 1.2510476112365723]}, 'reward': 1.0, 'terminated': False, 'truncated': False}, {'state': {'array': [0.023797186091542244, -0.9711766242980957, 0.03934279456734657, 1.2510476112365723]}, 'action': {'array': 1}, 'next_state': {'array': [0.004373653791844845, -0.776580274105072, 0.0643637478351593, 0.9709427952766418]}, 'reward': 1.0, 'terminated': False, 'truncated': False}, {'state': {'array': [0.004373653791844845, -0.776580274105072, 0.0643637478351593, 0.9709427952766418]}, 'action': {'array': 0}, 'next_state': {'array': [-0.01115795224905014, -0.9725043177604675, 0.08378259837627411, 1.283130168914795]}, 'reward': 1.0, 'terminated': False, 'truncated': False}, {'state': {'array': [-0.01115795224905014, -0.9725043177604675, 0.08378259837627411, 1.283130168914795]}, 'action': {'array': 0}, 'next_state': {'array': [-0.0306080374866724, -1.168587327003479, 0.10944519937038422, 1.6008262634277344]}, 'reward': 1.0, 'terminated': False, 'truncated': False}, {'state': {'array': [-0.0306080374866724, -1.168587327003479, 0.10944519937038422, 1.6008262634277344]}, 'action': {'array': 0}, 'next_state': {'array': [-0.0539797842502594, -1.3648220300674438, 0.14146173000335693, 1.9255297183990479]}, 'reward': 1.0, 'terminated': False, 'truncated': False}, {'state': {'array': [-0.0539797842502594, -1.3648220300674438, 0.14146173000335693, 1.9255297183990479]}, 'action': {'array': 1}, 'next_state': {'array': [-0.08127622306346893, -1.1714730262756348, 0.1799723207950592, 1.6798546314239502]}, 'reward': 1.0, 'terminated': False, 'truncated': False}, {'state': {'array': [-0.08127622306346893, -1.1714730262756348, 0.1799723207950592, 1.6798546314239502]}, 'action': {'array': 0}, 'next_state': {'array': [-0.10470568388700485, -1.3681668043136597, 0.21356941759586334, 2.022756576538086]}, 'reward': 1.0, 'terminated': True, 'truncated': False}]}, 'env_name': 'CartPole-v1', 'preference': None, 'skipped': False, 'video1': None, 'video2': None, '_id': '1005b7ff-4acb-46a6-81bb-3620d7daa0d0'}\n"
     ]
    }
   ],
   "source": [
    "import json\n",
    "\n",
    "serialized_data = x.json()\n",
    "\n",
    "data_to_store = json.loads(serialized_data)\n",
    "\n",
    "data_to_store['_id'] = data_to_store.pop('id')\n",
    "\n",
    "print(data_to_store)"
   ]
  },
  {
   "cell_type": "markdown",
   "metadata": {},
   "source": [
    "# Test BufferedQueueManager"
   ]
  },
  {
   "cell_type": "code",
   "execution_count": 1,
   "metadata": {},
   "outputs": [],
   "source": [
    "import logging\n",
    "\n",
    "from rlduels.src.primitives.trajectory_pair import Transition, Trajectory, TrajectoryPair, NDArray\n",
    "\n",
    "from rlduels.src.database.database_manager import MongoDBManager\n",
    "\n",
    "from rlduels.src.create_video import create_videos_from_pair\n",
    "\n",
    "from rlduels.src.env_wrapper import EnvWrapper, GymWrapper\n",
    "\n",
    "from rlduels.src.buffered_queue_manager import BufferedQueueManager\n",
    "\n",
    "\n",
    "logging.basicConfig(level=logging.DEBUG,\n",
    "                    format='%(asctime)s - %(levelname)s - %(message)s',\n",
    "                    datefmt='%Y-%m-%d %H:%M:%S')"
   ]
  },
  {
   "cell_type": "code",
   "execution_count": 2,
   "metadata": {},
   "outputs": [],
   "source": [
    "import gymnasium as gym\n",
    "\n",
    "def run_cartpole():\n",
    "    # Create the CartPole environment\n",
    "    env = GymWrapper.create_env(name='CartPole-v1', render_mode=\"rgb_array\")\n",
    "\n",
    "    num_episodes = 10\n",
    "\n",
    "    trajectories = []\n",
    "\n",
    "    for episode in range(num_episodes):\n",
    "        # Reset the environment for a new episode\n",
    "        seed = 42\n",
    "        observation, info = env.reset(seed=42)\n",
    "        total_reward = 0\n",
    "        done = False\n",
    "\n",
    "        transitions = []\n",
    "\n",
    "        while not done:\n",
    "            env.render()\n",
    "\n",
    "            action = env.sample_action()\n",
    "\n",
    "            next_observation, reward, terminated, truncated, info = env.step(action)\n",
    "\n",
    "            transitions.append(Transition.create(\n",
    "                state=observation,\n",
    "                action=action,\n",
    "                reward=reward,\n",
    "                terminated=terminated,\n",
    "                truncated=truncated,\n",
    "                next_state=next_observation\n",
    "            ))\n",
    "\n",
    "            observation = next_observation\n",
    "            total_reward += reward\n",
    "            done = terminated or truncated\n",
    "        \n",
    "        trajectories.append(Trajectory(\n",
    "            env_name = env.name,\n",
    "            information={'seed': 42},\n",
    "            transitions=transitions\n",
    "        ))\n",
    "\n",
    "        if done:\n",
    "            print(f\"Episode {episode + 1}: Total reward = {total_reward}\")\n",
    "\n",
    "    # Close the environment\n",
    "    env.close()\n",
    "\n",
    "    # Return trajectories for further analysis if necessary\n",
    "    return trajectories"
   ]
  },
  {
   "cell_type": "code",
   "execution_count": 3,
   "metadata": {},
   "outputs": [],
   "source": [
    "db = MongoDBManager()"
   ]
  },
  {
   "cell_type": "code",
   "execution_count": 4,
   "metadata": {},
   "outputs": [
    {
     "name": "stdout",
     "output_type": "stream",
     "text": [
      "Episode 1: Total reward = 22.0\n",
      "Episode 2: Total reward = 23.0\n",
      "Episode 3: Total reward = 10.0\n",
      "Episode 4: Total reward = 19.0\n",
      "Episode 5: Total reward = 15.0\n",
      "Episode 6: Total reward = 12.0\n",
      "Episode 7: Total reward = 33.0\n"
     ]
    },
    {
     "name": "stderr",
     "output_type": "stream",
     "text": [
      "2024-05-07 00:15:17 - DEBUG - {\"message\": \"Server selection started\", \"selector\": \"<function writable_server_selector at 0x7809affd3670>\", \"operation\": \"insert\", \"topologyDescription\": \"<TopologyDescription id: 6639567541eddcc0b49132b7, topology_type: Single, servers: [<ServerDescription ('localhost', 27017) server_type: Standalone, rtt: 0.0005299440017552115>]>\", \"clientId\": {\"$oid\": \"6639567541eddcc0b49132b7\"}}\n",
      "2024-05-07 00:15:17 - DEBUG - {\"message\": \"Server selection succeeded\", \"selector\": \"<function writable_server_selector at 0x7809affd3670>\", \"operation\": \"insert\", \"topologyDescription\": \"<TopologyDescription id: 6639567541eddcc0b49132b7, topology_type: Single, servers: [<ServerDescription ('localhost', 27017) server_type: Standalone, rtt: 0.0005299440017552115>]>\", \"clientId\": {\"$oid\": \"6639567541eddcc0b49132b7\"}, \"serverHost\": \"localhost\", \"serverPort\": 27017}\n",
      "2024-05-07 00:15:17 - DEBUG - {\"clientId\": {\"$oid\": \"6639567541eddcc0b49132b7\"}, \"message\": \"Command started\", \"command\": \"{\\\"insert\\\": \\\"videos\\\", \\\"ordered\\\": true, \\\"lsid\\\": {\\\"id\\\": {\\\"$binary\\\": {\\\"base64\\\": \\\"cYjoZyJSRhyKX241Wcx8BQ==\\\", \\\"subType\\\": \\\"04\\\"}}}, \\\"$db\\\": \\\"database\\\", \\\"documents\\\": [{\\\"trajectory1\\\": {\\\"env_name\\\": \\\"CartPole-v1\\\", \\\"information\\\": {\\\"seed\\\": 42}, \\\"transitions\\\": [{\\\"state\\\": {\\\"array\\\": [0.02739560417830944, -0.006112155970185995, 0.03585979342460632, 0.019736802205443382]}, \\\"action\\\": {\\\"array\\\": 1}, \\\"reward\\\": 1.0, \\\"next_state\\\": {\\\"array\\\": [0.02727336250245571, 0.18847766518592834, 0.036254528909921646, -0.26141977310180664]}}, {\\\"state\\\": {\\\"array\\\": [0.02727336250245571, 0.18847766518592834, 0.036254528909921646, -0.26141977310180664]}, \\\"action\\\": {\\\"array\\\": 1}, \\\"reward\\\": 1.0, \\\"next_state\\\": {\\\"array\\\": [0.0310429148375988, 0.3830638527870178, 0.03102613240480423, -0.5424507260322571]}}, {\\\"state\\\": {\\\"array\\\": [0.0310429148375988, 0.3830638527870178, 0.03102613240480423, -0.5424507260322571]}, \\\"action\\\": {\\\"array\\\": 1}, \\\"reward\\\": 1.0, \\\"next_state\\\": {\\\"array\\\": [0.03870419040322304, 0.5777363181114197, 0.020177118480205536, -...\", \"commandName\": \"insert\", \"databaseName\": \"database\", \"requestId\": 2044897763, \"operationId\": 2044897763, \"driverConnectionId\": 1, \"serverConnectionId\": 3, \"serverHost\": \"localhost\", \"serverPort\": 27017}\n",
      "2024-05-07 00:15:17 - DEBUG - {\"clientId\": {\"$oid\": \"6639567541eddcc0b49132b7\"}, \"message\": \"Command succeeded\", \"durationMS\": 4.577, \"reply\": \"{\\\"n\\\": 1, \\\"ok\\\": 1.0}\", \"commandName\": \"insert\", \"databaseName\": \"database\", \"requestId\": 2044897763, \"operationId\": 2044897763, \"driverConnectionId\": 1, \"serverConnectionId\": 3, \"serverHost\": \"localhost\", \"serverPort\": 27017}\n",
      "2024-05-07 00:15:17 - DEBUG - {\"message\": \"Server selection started\", \"selector\": \"<function writable_server_selector at 0x7809affd3670>\", \"operation\": \"insert\", \"topologyDescription\": \"<TopologyDescription id: 6639567541eddcc0b49132b7, topology_type: Single, servers: [<ServerDescription ('localhost', 27017) server_type: Standalone, rtt: 0.0005299440017552115>]>\", \"clientId\": {\"$oid\": \"6639567541eddcc0b49132b7\"}}\n",
      "2024-05-07 00:15:17 - DEBUG - {\"message\": \"Server selection succeeded\", \"selector\": \"<function writable_server_selector at 0x7809affd3670>\", \"operation\": \"insert\", \"topologyDescription\": \"<TopologyDescription id: 6639567541eddcc0b49132b7, topology_type: Single, servers: [<ServerDescription ('localhost', 27017) server_type: Standalone, rtt: 0.0005299440017552115>]>\", \"clientId\": {\"$oid\": \"6639567541eddcc0b49132b7\"}, \"serverHost\": \"localhost\", \"serverPort\": 27017}\n",
      "2024-05-07 00:15:17 - DEBUG - {\"clientId\": {\"$oid\": \"6639567541eddcc0b49132b7\"}, \"message\": \"Command started\", \"command\": \"{\\\"insert\\\": \\\"videos\\\", \\\"ordered\\\": true, \\\"lsid\\\": {\\\"id\\\": {\\\"$binary\\\": {\\\"base64\\\": \\\"cYjoZyJSRhyKX241Wcx8BQ==\\\", \\\"subType\\\": \\\"04\\\"}}}, \\\"$db\\\": \\\"database\\\", \\\"documents\\\": [{\\\"trajectory1\\\": {\\\"env_name\\\": \\\"CartPole-v1\\\", \\\"information\\\": {\\\"seed\\\": 42}, \\\"transitions\\\": [{\\\"state\\\": {\\\"array\\\": [0.02739560417830944, -0.006112155970185995, 0.03585979342460632, 0.019736802205443382]}, \\\"action\\\": {\\\"array\\\": 1}, \\\"reward\\\": 1.0, \\\"next_state\\\": {\\\"array\\\": [0.02727336250245571, 0.18847766518592834, 0.036254528909921646, -0.26141977310180664]}}, {\\\"state\\\": {\\\"array\\\": [0.02727336250245571, 0.18847766518592834, 0.036254528909921646, -0.26141977310180664]}, \\\"action\\\": {\\\"array\\\": 1}, \\\"reward\\\": 1.0, \\\"next_state\\\": {\\\"array\\\": [0.0310429148375988, 0.3830638527870178, 0.03102613240480423, -0.5424507260322571]}}, {\\\"state\\\": {\\\"array\\\": [0.0310429148375988, 0.3830638527870178, 0.03102613240480423, -0.5424507260322571]}, \\\"reward\\\": 1.0, \\\"next_state\\\": {\\\"array\\\": [0.03870419040322304, 0.1875198930501938, 0.020177118480205536, -0.24015574157238007]}}, ...\", \"commandName\": \"insert\", \"databaseName\": \"database\", \"requestId\": 1967513926, \"operationId\": 1967513926, \"driverConnectionId\": 1, \"serverConnectionId\": 3, \"serverHost\": \"localhost\", \"serverPort\": 27017}\n",
      "2024-05-07 00:15:17 - DEBUG - {\"clientId\": {\"$oid\": \"6639567541eddcc0b49132b7\"}, \"message\": \"Command succeeded\", \"durationMS\": 1.557, \"reply\": \"{\\\"n\\\": 1, \\\"ok\\\": 1.0}\", \"commandName\": \"insert\", \"databaseName\": \"database\", \"requestId\": 1967513926, \"operationId\": 1967513926, \"driverConnectionId\": 1, \"serverConnectionId\": 3, \"serverHost\": \"localhost\", \"serverPort\": 27017}\n",
      "2024-05-07 00:15:17 - DEBUG - {\"message\": \"Server selection started\", \"selector\": \"<function writable_server_selector at 0x7809affd3670>\", \"operation\": \"insert\", \"topologyDescription\": \"<TopologyDescription id: 6639567541eddcc0b49132b7, topology_type: Single, servers: [<ServerDescription ('localhost', 27017) server_type: Standalone, rtt: 0.0005299440017552115>]>\", \"clientId\": {\"$oid\": \"6639567541eddcc0b49132b7\"}}\n",
      "2024-05-07 00:15:17 - DEBUG - {\"message\": \"Server selection succeeded\", \"selector\": \"<function writable_server_selector at 0x7809affd3670>\", \"operation\": \"insert\", \"topologyDescription\": \"<TopologyDescription id: 6639567541eddcc0b49132b7, topology_type: Single, servers: [<ServerDescription ('localhost', 27017) server_type: Standalone, rtt: 0.0005299440017552115>]>\", \"clientId\": {\"$oid\": \"6639567541eddcc0b49132b7\"}, \"serverHost\": \"localhost\", \"serverPort\": 27017}\n",
      "2024-05-07 00:15:17 - DEBUG - {\"clientId\": {\"$oid\": \"6639567541eddcc0b49132b7\"}, \"message\": \"Command started\", \"command\": \"{\\\"insert\\\": \\\"videos\\\", \\\"ordered\\\": true, \\\"lsid\\\": {\\\"id\\\": {\\\"$binary\\\": {\\\"base64\\\": \\\"cYjoZyJSRhyKX241Wcx8BQ==\\\", \\\"subType\\\": \\\"04\\\"}}}, \\\"$db\\\": \\\"database\\\", \\\"documents\\\": [{\\\"trajectory1\\\": {\\\"env_name\\\": \\\"CartPole-v1\\\", \\\"information\\\": {\\\"seed\\\": 42}, \\\"transitions\\\": [{\\\"state\\\": {\\\"array\\\": [0.02739560417830944, -0.006112155970185995, 0.03585979342460632, 0.019736802205443382]}, \\\"reward\\\": 1.0, \\\"next_state\\\": {\\\"array\\\": [0.02727336250245571, -0.20172953605651855, 0.036254528909921646, 0.32351475954055786]}}, {\\\"state\\\": {\\\"array\\\": [0.02727336250245571, -0.20172953605651855, 0.036254528909921646, 0.32351475954055786]}, \\\"reward\\\": 1.0, \\\"next_state\\\": {\\\"array\\\": [0.02323877066373825, -0.39734846353530884, 0.04272482171654701, 0.6274068355560303]}}, {\\\"state\\\": {\\\"array\\\": [0.02323877066373825, -0.39734846353530884, 0.04272482171654701, 0.6274068355560303]}, \\\"reward\\\": 1.0, \\\"next_state\\\": {\\\"array\\\": [0.015291801653802395, -0.593039870262146, 0.05527295917272568, 0.933233380317688]}}, {\\\"state\\\": {\\\"array\\\": [0.015291801653802395, -0.5...\", \"commandName\": \"insert\", \"databaseName\": \"database\", \"requestId\": 1365180540, \"operationId\": 1365180540, \"driverConnectionId\": 1, \"serverConnectionId\": 3, \"serverHost\": \"localhost\", \"serverPort\": 27017}\n",
      "2024-05-07 00:15:17 - DEBUG - {\"clientId\": {\"$oid\": \"6639567541eddcc0b49132b7\"}, \"message\": \"Command succeeded\", \"durationMS\": 1.8370000000000002, \"reply\": \"{\\\"n\\\": 1, \\\"ok\\\": 1.0}\", \"commandName\": \"insert\", \"databaseName\": \"database\", \"requestId\": 1365180540, \"operationId\": 1365180540, \"driverConnectionId\": 1, \"serverConnectionId\": 3, \"serverHost\": \"localhost\", \"serverPort\": 27017}\n",
      "2024-05-07 00:15:17 - DEBUG - {\"message\": \"Server selection started\", \"selector\": \"<function writable_server_selector at 0x7809affd3670>\", \"operation\": \"insert\", \"topologyDescription\": \"<TopologyDescription id: 6639567541eddcc0b49132b7, topology_type: Single, servers: [<ServerDescription ('localhost', 27017) server_type: Standalone, rtt: 0.0005299440017552115>]>\", \"clientId\": {\"$oid\": \"6639567541eddcc0b49132b7\"}}\n",
      "2024-05-07 00:15:17 - DEBUG - {\"message\": \"Server selection succeeded\", \"selector\": \"<function writable_server_selector at 0x7809affd3670>\", \"operation\": \"insert\", \"topologyDescription\": \"<TopologyDescription id: 6639567541eddcc0b49132b7, topology_type: Single, servers: [<ServerDescription ('localhost', 27017) server_type: Standalone, rtt: 0.0005299440017552115>]>\", \"clientId\": {\"$oid\": \"6639567541eddcc0b49132b7\"}, \"serverHost\": \"localhost\", \"serverPort\": 27017}\n",
      "2024-05-07 00:15:17 - DEBUG - {\"clientId\": {\"$oid\": \"6639567541eddcc0b49132b7\"}, \"message\": \"Command started\", \"command\": \"{\\\"insert\\\": \\\"videos\\\", \\\"ordered\\\": true, \\\"lsid\\\": {\\\"id\\\": {\\\"$binary\\\": {\\\"base64\\\": \\\"cYjoZyJSRhyKX241Wcx8BQ==\\\", \\\"subType\\\": \\\"04\\\"}}}, \\\"$db\\\": \\\"database\\\", \\\"documents\\\": [{\\\"trajectory1\\\": {\\\"env_name\\\": \\\"CartPole-v1\\\", \\\"information\\\": {\\\"seed\\\": 42}, \\\"transitions\\\": [{\\\"state\\\": {\\\"array\\\": [0.02739560417830944, -0.006112155970185995, 0.03585979342460632, 0.019736802205443382]}, \\\"reward\\\": 1.0, \\\"next_state\\\": {\\\"array\\\": [0.02727336250245571, -0.20172953605651855, 0.036254528909921646, 0.32351475954055786]}}, {\\\"state\\\": {\\\"array\\\": [0.02727336250245571, -0.20172953605651855, 0.036254528909921646, 0.32351475954055786]}, \\\"reward\\\": 1.0, \\\"next_state\\\": {\\\"array\\\": [0.02323877066373825, -0.39734846353530884, 0.04272482171654701, 0.6274068355560303]}}, {\\\"state\\\": {\\\"array\\\": [0.02323877066373825, -0.39734846353530884, 0.04272482171654701, 0.6274068355560303]}, \\\"action\\\": {\\\"array\\\": 1}, \\\"reward\\\": 1.0, \\\"next_state\\\": {\\\"array\\\": [0.015291801653802395, -0.20284806191921234, 0.05527295917272568, 0.3484797477722168]}}, {\\\"state\\\": {\\\"array\\\": ...\", \"commandName\": \"insert\", \"databaseName\": \"database\", \"requestId\": 1540383426, \"operationId\": 1540383426, \"driverConnectionId\": 1, \"serverConnectionId\": 3, \"serverHost\": \"localhost\", \"serverPort\": 27017}\n",
      "2024-05-07 00:15:17 - DEBUG - {\"clientId\": {\"$oid\": \"6639567541eddcc0b49132b7\"}, \"message\": \"Command succeeded\", \"durationMS\": 1.581, \"reply\": \"{\\\"n\\\": 1, \\\"ok\\\": 1.0}\", \"commandName\": \"insert\", \"databaseName\": \"database\", \"requestId\": 1540383426, \"operationId\": 1540383426, \"driverConnectionId\": 1, \"serverConnectionId\": 3, \"serverHost\": \"localhost\", \"serverPort\": 27017}\n",
      "2024-05-07 00:15:17 - DEBUG - {\"message\": \"Server selection started\", \"selector\": \"<function writable_server_selector at 0x7809affd3670>\", \"operation\": \"insert\", \"topologyDescription\": \"<TopologyDescription id: 6639567541eddcc0b49132b7, topology_type: Single, servers: [<ServerDescription ('localhost', 27017) server_type: Standalone, rtt: 0.0005299440017552115>]>\", \"clientId\": {\"$oid\": \"6639567541eddcc0b49132b7\"}}\n",
      "2024-05-07 00:15:17 - DEBUG - {\"message\": \"Server selection succeeded\", \"selector\": \"<function writable_server_selector at 0x7809affd3670>\", \"operation\": \"insert\", \"topologyDescription\": \"<TopologyDescription id: 6639567541eddcc0b49132b7, topology_type: Single, servers: [<ServerDescription ('localhost', 27017) server_type: Standalone, rtt: 0.0005299440017552115>]>\", \"clientId\": {\"$oid\": \"6639567541eddcc0b49132b7\"}, \"serverHost\": \"localhost\", \"serverPort\": 27017}\n",
      "2024-05-07 00:15:17 - DEBUG - {\"clientId\": {\"$oid\": \"6639567541eddcc0b49132b7\"}, \"message\": \"Command started\", \"command\": \"{\\\"insert\\\": \\\"videos\\\", \\\"ordered\\\": true, \\\"lsid\\\": {\\\"id\\\": {\\\"$binary\\\": {\\\"base64\\\": \\\"cYjoZyJSRhyKX241Wcx8BQ==\\\", \\\"subType\\\": \\\"04\\\"}}}, \\\"$db\\\": \\\"database\\\", \\\"documents\\\": [{\\\"trajectory1\\\": {\\\"env_name\\\": \\\"CartPole-v1\\\", \\\"information\\\": {\\\"seed\\\": 42}, \\\"transitions\\\": [{\\\"state\\\": {\\\"array\\\": [0.02739560417830944, -0.006112155970185995, 0.03585979342460632, 0.019736802205443382]}, \\\"action\\\": {\\\"array\\\": 1}, \\\"reward\\\": 1.0, \\\"next_state\\\": {\\\"array\\\": [0.02727336250245571, 0.18847766518592834, 0.036254528909921646, -0.26141977310180664]}}, {\\\"state\\\": {\\\"array\\\": [0.02727336250245571, 0.18847766518592834, 0.036254528909921646, -0.26141977310180664]}, \\\"action\\\": {\\\"array\\\": 1}, \\\"reward\\\": 1.0, \\\"next_state\\\": {\\\"array\\\": [0.0310429148375988, 0.3830638527870178, 0.03102613240480423, -0.5424507260322571]}}, {\\\"state\\\": {\\\"array\\\": [0.0310429148375988, 0.3830638527870178, 0.03102613240480423, -0.5424507260322571]}, \\\"action\\\": {\\\"array\\\": 1}, \\\"reward\\\": 1.0, \\\"next_state\\\": {\\\"array\\\": [0.03870419040322304, 0.5777363181114197, 0.020177118480205536, -...\", \"commandName\": \"insert\", \"databaseName\": \"database\", \"requestId\": 304089172, \"operationId\": 304089172, \"driverConnectionId\": 1, \"serverConnectionId\": 3, \"serverHost\": \"localhost\", \"serverPort\": 27017}\n",
      "2024-05-07 00:15:17 - DEBUG - {\"clientId\": {\"$oid\": \"6639567541eddcc0b49132b7\"}, \"message\": \"Command succeeded\", \"durationMS\": 1.52, \"reply\": \"{\\\"n\\\": 1, \\\"ok\\\": 1.0}\", \"commandName\": \"insert\", \"databaseName\": \"database\", \"requestId\": 304089172, \"operationId\": 304089172, \"driverConnectionId\": 1, \"serverConnectionId\": 3, \"serverHost\": \"localhost\", \"serverPort\": 27017}\n",
      "2024-05-07 00:15:17 - DEBUG - {\"message\": \"Server selection started\", \"selector\": \"<function writable_server_selector at 0x7809affd3670>\", \"operation\": \"insert\", \"topologyDescription\": \"<TopologyDescription id: 6639567541eddcc0b49132b7, topology_type: Single, servers: [<ServerDescription ('localhost', 27017) server_type: Standalone, rtt: 0.0005299440017552115>]>\", \"clientId\": {\"$oid\": \"6639567541eddcc0b49132b7\"}}\n",
      "2024-05-07 00:15:17 - DEBUG - {\"message\": \"Server selection succeeded\", \"selector\": \"<function writable_server_selector at 0x7809affd3670>\", \"operation\": \"insert\", \"topologyDescription\": \"<TopologyDescription id: 6639567541eddcc0b49132b7, topology_type: Single, servers: [<ServerDescription ('localhost', 27017) server_type: Standalone, rtt: 0.0005299440017552115>]>\", \"clientId\": {\"$oid\": \"6639567541eddcc0b49132b7\"}, \"serverHost\": \"localhost\", \"serverPort\": 27017}\n",
      "2024-05-07 00:15:17 - DEBUG - {\"clientId\": {\"$oid\": \"6639567541eddcc0b49132b7\"}, \"message\": \"Command started\", \"command\": \"{\\\"insert\\\": \\\"videos\\\", \\\"ordered\\\": true, \\\"lsid\\\": {\\\"id\\\": {\\\"$binary\\\": {\\\"base64\\\": \\\"cYjoZyJSRhyKX241Wcx8BQ==\\\", \\\"subType\\\": \\\"04\\\"}}}, \\\"$db\\\": \\\"database\\\", \\\"documents\\\": [{\\\"trajectory1\\\": {\\\"env_name\\\": \\\"CartPole-v1\\\", \\\"information\\\": {\\\"seed\\\": 42}, \\\"transitions\\\": [{\\\"state\\\": {\\\"array\\\": [0.02739560417830944, -0.006112155970185995, 0.03585979342460632, 0.019736802205443382]}, \\\"action\\\": {\\\"array\\\": 1}, \\\"reward\\\": 1.0, \\\"next_state\\\": {\\\"array\\\": [0.02727336250245571, 0.18847766518592834, 0.036254528909921646, -0.26141977310180664]}}, {\\\"state\\\": {\\\"array\\\": [0.02727336250245571, 0.18847766518592834, 0.036254528909921646, -0.26141977310180664]}, \\\"action\\\": {\\\"array\\\": 1}, \\\"reward\\\": 1.0, \\\"next_state\\\": {\\\"array\\\": [0.0310429148375988, 0.3830638527870178, 0.03102613240480423, -0.5424507260322571]}}, {\\\"state\\\": {\\\"array\\\": [0.0310429148375988, 0.3830638527870178, 0.03102613240480423, -0.5424507260322571]}, \\\"action\\\": {\\\"array\\\": 1}, \\\"reward\\\": 1.0, \\\"next_state\\\": {\\\"array\\\": [0.03870419040322304, 0.5777363181114197, 0.020177118480205536, -...\", \"commandName\": \"insert\", \"databaseName\": \"database\", \"requestId\": 1303455736, \"operationId\": 1303455736, \"driverConnectionId\": 1, \"serverConnectionId\": 3, \"serverHost\": \"localhost\", \"serverPort\": 27017}\n",
      "2024-05-07 00:15:17 - DEBUG - {\"clientId\": {\"$oid\": \"6639567541eddcc0b49132b7\"}, \"message\": \"Command succeeded\", \"durationMS\": 2.112, \"reply\": \"{\\\"n\\\": 1, \\\"ok\\\": 1.0}\", \"commandName\": \"insert\", \"databaseName\": \"database\", \"requestId\": 1303455736, \"operationId\": 1303455736, \"driverConnectionId\": 1, \"serverConnectionId\": 3, \"serverHost\": \"localhost\", \"serverPort\": 27017}\n",
      "2024-05-07 00:15:17 - DEBUG - {\"message\": \"Server selection started\", \"selector\": \"<function writable_server_selector at 0x7809affd3670>\", \"operation\": \"insert\", \"topologyDescription\": \"<TopologyDescription id: 6639567541eddcc0b49132b7, topology_type: Single, servers: [<ServerDescription ('localhost', 27017) server_type: Standalone, rtt: 0.0005299440017552115>]>\", \"clientId\": {\"$oid\": \"6639567541eddcc0b49132b7\"}}\n",
      "2024-05-07 00:15:17 - DEBUG - {\"message\": \"Server selection succeeded\", \"selector\": \"<function writable_server_selector at 0x7809affd3670>\", \"operation\": \"insert\", \"topologyDescription\": \"<TopologyDescription id: 6639567541eddcc0b49132b7, topology_type: Single, servers: [<ServerDescription ('localhost', 27017) server_type: Standalone, rtt: 0.0005299440017552115>]>\", \"clientId\": {\"$oid\": \"6639567541eddcc0b49132b7\"}, \"serverHost\": \"localhost\", \"serverPort\": 27017}\n",
      "2024-05-07 00:15:17 - DEBUG - {\"clientId\": {\"$oid\": \"6639567541eddcc0b49132b7\"}, \"message\": \"Command started\", \"command\": \"{\\\"insert\\\": \\\"videos\\\", \\\"ordered\\\": true, \\\"lsid\\\": {\\\"id\\\": {\\\"$binary\\\": {\\\"base64\\\": \\\"cYjoZyJSRhyKX241Wcx8BQ==\\\", \\\"subType\\\": \\\"04\\\"}}}, \\\"$db\\\": \\\"database\\\", \\\"documents\\\": [{\\\"trajectory1\\\": {\\\"env_name\\\": \\\"CartPole-v1\\\", \\\"information\\\": {\\\"seed\\\": 42}, \\\"transitions\\\": [{\\\"state\\\": {\\\"array\\\": [0.02739560417830944, -0.006112155970185995, 0.03585979342460632, 0.019736802205443382]}, \\\"reward\\\": 1.0, \\\"next_state\\\": {\\\"array\\\": [0.02727336250245571, -0.20172953605651855, 0.036254528909921646, 0.32351475954055786]}}, {\\\"state\\\": {\\\"array\\\": [0.02727336250245571, -0.20172953605651855, 0.036254528909921646, 0.32351475954055786]}, \\\"reward\\\": 1.0, \\\"next_state\\\": {\\\"array\\\": [0.02323877066373825, -0.39734846353530884, 0.04272482171654701, 0.6274068355560303]}}, {\\\"state\\\": {\\\"array\\\": [0.02323877066373825, -0.39734846353530884, 0.04272482171654701, 0.6274068355560303]}, \\\"action\\\": {\\\"array\\\": 1}, \\\"reward\\\": 1.0, \\\"next_state\\\": {\\\"array\\\": [0.015291801653802395, -0.20284806191921234, 0.05527295917272568, 0.3484797477722168]}}, {\\\"state\\\": {\\\"array\\\": ...\", \"commandName\": \"insert\", \"databaseName\": \"database\", \"requestId\": 35005211, \"operationId\": 35005211, \"driverConnectionId\": 1, \"serverConnectionId\": 3, \"serverHost\": \"localhost\", \"serverPort\": 27017}\n",
      "2024-05-07 00:15:17 - DEBUG - {\"clientId\": {\"$oid\": \"6639567541eddcc0b49132b7\"}, \"message\": \"Command succeeded\", \"durationMS\": 2.4290000000000003, \"reply\": \"{\\\"n\\\": 1, \\\"ok\\\": 1.0}\", \"commandName\": \"insert\", \"databaseName\": \"database\", \"requestId\": 35005211, \"operationId\": 35005211, \"driverConnectionId\": 1, \"serverConnectionId\": 3, \"serverHost\": \"localhost\", \"serverPort\": 27017}\n",
      "2024-05-07 00:15:17 - DEBUG - {\"message\": \"Server selection started\", \"selector\": \"<function writable_server_selector at 0x7809affd3670>\", \"operation\": \"insert\", \"topologyDescription\": \"<TopologyDescription id: 6639567541eddcc0b49132b7, topology_type: Single, servers: [<ServerDescription ('localhost', 27017) server_type: Standalone, rtt: 0.0005299440017552115>]>\", \"clientId\": {\"$oid\": \"6639567541eddcc0b49132b7\"}}\n",
      "2024-05-07 00:15:17 - DEBUG - {\"message\": \"Server selection succeeded\", \"selector\": \"<function writable_server_selector at 0x7809affd3670>\", \"operation\": \"insert\", \"topologyDescription\": \"<TopologyDescription id: 6639567541eddcc0b49132b7, topology_type: Single, servers: [<ServerDescription ('localhost', 27017) server_type: Standalone, rtt: 0.0005299440017552115>]>\", \"clientId\": {\"$oid\": \"6639567541eddcc0b49132b7\"}, \"serverHost\": \"localhost\", \"serverPort\": 27017}\n",
      "2024-05-07 00:15:17 - DEBUG - {\"clientId\": {\"$oid\": \"6639567541eddcc0b49132b7\"}, \"message\": \"Command started\", \"command\": \"{\\\"insert\\\": \\\"videos\\\", \\\"ordered\\\": true, \\\"lsid\\\": {\\\"id\\\": {\\\"$binary\\\": {\\\"base64\\\": \\\"cYjoZyJSRhyKX241Wcx8BQ==\\\", \\\"subType\\\": \\\"04\\\"}}}, \\\"$db\\\": \\\"database\\\", \\\"documents\\\": [{\\\"trajectory1\\\": {\\\"env_name\\\": \\\"CartPole-v1\\\", \\\"information\\\": {\\\"seed\\\": 42}, \\\"transitions\\\": [{\\\"state\\\": {\\\"array\\\": [0.02739560417830944, -0.006112155970185995, 0.03585979342460632, 0.019736802205443382]}, \\\"reward\\\": 1.0, \\\"next_state\\\": {\\\"array\\\": [0.02727336250245571, -0.20172953605651855, 0.036254528909921646, 0.32351475954055786]}}, {\\\"state\\\": {\\\"array\\\": [0.02727336250245571, -0.20172953605651855, 0.036254528909921646, 0.32351475954055786]}, \\\"action\\\": {\\\"array\\\": 1}, \\\"reward\\\": 1.0, \\\"next_state\\\": {\\\"array\\\": [0.02323877066373825, -0.007142078131437302, 0.04272482171654701, 0.042481862008571625]}}, {\\\"state\\\": {\\\"array\\\": [0.02323877066373825, -0.007142078131437302, 0.04272482171654701, 0.042481862008571625]}, \\\"reward\\\": 1.0, \\\"next_state\\\": {\\\"array\\\": [0.023095929995179176, -0.20284982025623322, 0.043574459850788116, 0.34833285212516785]}}, {\\\"state\\\": {\\\"...\", \"commandName\": \"insert\", \"databaseName\": \"database\", \"requestId\": 521595368, \"operationId\": 521595368, \"driverConnectionId\": 1, \"serverConnectionId\": 3, \"serverHost\": \"localhost\", \"serverPort\": 27017}\n",
      "2024-05-07 00:15:17 - DEBUG - {\"clientId\": {\"$oid\": \"6639567541eddcc0b49132b7\"}, \"message\": \"Command succeeded\", \"durationMS\": 1.82, \"reply\": \"{\\\"n\\\": 1, \\\"ok\\\": 1.0}\", \"commandName\": \"insert\", \"databaseName\": \"database\", \"requestId\": 521595368, \"operationId\": 521595368, \"driverConnectionId\": 1, \"serverConnectionId\": 3, \"serverHost\": \"localhost\", \"serverPort\": 27017}\n",
      "2024-05-07 00:15:17 - DEBUG - {\"message\": \"Server selection started\", \"selector\": \"<function writable_server_selector at 0x7809affd3670>\", \"operation\": \"insert\", \"topologyDescription\": \"<TopologyDescription id: 6639567541eddcc0b49132b7, topology_type: Single, servers: [<ServerDescription ('localhost', 27017) server_type: Standalone, rtt: 0.0005299440017552115>]>\", \"clientId\": {\"$oid\": \"6639567541eddcc0b49132b7\"}}\n",
      "2024-05-07 00:15:17 - DEBUG - {\"message\": \"Server selection succeeded\", \"selector\": \"<function writable_server_selector at 0x7809affd3670>\", \"operation\": \"insert\", \"topologyDescription\": \"<TopologyDescription id: 6639567541eddcc0b49132b7, topology_type: Single, servers: [<ServerDescription ('localhost', 27017) server_type: Standalone, rtt: 0.0005299440017552115>]>\", \"clientId\": {\"$oid\": \"6639567541eddcc0b49132b7\"}, \"serverHost\": \"localhost\", \"serverPort\": 27017}\n",
      "2024-05-07 00:15:17 - DEBUG - {\"clientId\": {\"$oid\": \"6639567541eddcc0b49132b7\"}, \"message\": \"Command started\", \"command\": \"{\\\"insert\\\": \\\"videos\\\", \\\"ordered\\\": true, \\\"lsid\\\": {\\\"id\\\": {\\\"$binary\\\": {\\\"base64\\\": \\\"cYjoZyJSRhyKX241Wcx8BQ==\\\", \\\"subType\\\": \\\"04\\\"}}}, \\\"$db\\\": \\\"database\\\", \\\"documents\\\": [{\\\"trajectory1\\\": {\\\"env_name\\\": \\\"CartPole-v1\\\", \\\"information\\\": {\\\"seed\\\": 42}, \\\"transitions\\\": [{\\\"state\\\": {\\\"array\\\": [0.02739560417830944, -0.006112155970185995, 0.03585979342460632, 0.019736802205443382]}, \\\"action\\\": {\\\"array\\\": 1}, \\\"reward\\\": 1.0, \\\"next_state\\\": {\\\"array\\\": [0.02727336250245571, 0.18847766518592834, 0.036254528909921646, -0.26141977310180664]}}, {\\\"state\\\": {\\\"array\\\": [0.02727336250245571, 0.18847766518592834, 0.036254528909921646, -0.26141977310180664]}, \\\"reward\\\": 1.0, \\\"next_state\\\": {\\\"array\\\": [0.0310429148375988, -0.007142550311982632, 0.03102613240480423, 0.04247424006462097]}}, {\\\"state\\\": {\\\"array\\\": [0.0310429148375988, -0.007142550311982632, 0.03102613240480423, 0.04247424006462097]}, \\\"action\\\": {\\\"array\\\": 1}, \\\"reward\\\": 1.0, \\\"next_state\\\": {\\\"array\\\": [0.03090006485581398, 0.1875210702419281, 0.0318756178021431, -0.24026045203208923]...\", \"commandName\": \"insert\", \"databaseName\": \"database\", \"requestId\": 294702567, \"operationId\": 294702567, \"driverConnectionId\": 1, \"serverConnectionId\": 3, \"serverHost\": \"localhost\", \"serverPort\": 27017}\n",
      "2024-05-07 00:15:17 - DEBUG - {\"clientId\": {\"$oid\": \"6639567541eddcc0b49132b7\"}, \"message\": \"Command succeeded\", \"durationMS\": 1.618, \"reply\": \"{\\\"n\\\": 1, \\\"ok\\\": 1.0}\", \"commandName\": \"insert\", \"databaseName\": \"database\", \"requestId\": 294702567, \"operationId\": 294702567, \"driverConnectionId\": 1, \"serverConnectionId\": 3, \"serverHost\": \"localhost\", \"serverPort\": 27017}\n"
     ]
    },
    {
     "name": "stdout",
     "output_type": "stream",
     "text": [
      "Episode 8: Total reward = 27.0\n",
      "Episode 9: Total reward = 15.0\n",
      "Episode 10: Total reward = 18.0\n",
      "('Added 819831f9-4558-45c2-bdda-ef59ebc2b98b to the database', None)\n",
      "('Added d2b8bbfb-d290-45d7-97d9-f160c7b79176 to the database', None)\n",
      "('Added b6d04e59-c50d-461f-ae7e-55a1ba206a5d to the database', None)\n",
      "('Added d49a667d-b3f1-4fb9-8ba1-046f167e68c4 to the database', None)\n",
      "('Added 10766def-5725-436b-b026-d54ac6ecce1d to the database', None)\n",
      "('Added 30fa5f58-ceb8-443b-8fad-6056a2a9c1d9 to the database', None)\n",
      "('Added 8c747886-c8af-4ab3-8c8c-16b3f4df4974 to the database', None)\n",
      "('Added 34287f55-c63f-4888-a9e9-265c643e279d to the database', None)\n",
      "('Added 5760eab6-6834-4aca-a2cf-9b3bb6c146bb to the database', None)\n"
     ]
    }
   ],
   "source": [
    "trajs = run_cartpole()\n",
    "\n",
    "for i in range(len(trajs)):\n",
    "    if i != (len(trajs)-1):\n",
    "        print(db.add_entry(TrajectoryPair(trajectory1=trajs[i], trajectory2=trajs[i+1])))"
   ]
  },
  {
   "cell_type": "code",
   "execution_count": 5,
   "metadata": {},
   "outputs": [
    {
     "name": "stderr",
     "output_type": "stream",
     "text": [
      "2024-05-07 00:15:17 - DEBUG - Getting next entry.\n",
      "2024-05-07 00:15:17 - DEBUG - {\"message\": \"Server selection started\", \"selector\": \"Primary()\", \"operation\": \"find\", \"topologyDescription\": \"<TopologyDescription id: 6639567541eddcc0b49132b7, topology_type: Single, servers: [<ServerDescription ('localhost', 27017) server_type: Standalone, rtt: 0.0005299440017552115>]>\", \"clientId\": {\"$oid\": \"6639567541eddcc0b49132b7\"}}\n",
      "2024-05-07 00:15:17 - DEBUG - {\"message\": \"Server selection succeeded\", \"selector\": \"Primary()\", \"operation\": \"find\", \"topologyDescription\": \"<TopologyDescription id: 6639567541eddcc0b49132b7, topology_type: Single, servers: [<ServerDescription ('localhost', 27017) server_type: Standalone, rtt: 0.0005299440017552115>]>\", \"clientId\": {\"$oid\": \"6639567541eddcc0b49132b7\"}, \"serverHost\": \"localhost\", \"serverPort\": 27017}\n",
      "2024-05-07 00:15:17 - DEBUG - {\"clientId\": {\"$oid\": \"6639567541eddcc0b49132b7\"}, \"message\": \"Command started\", \"command\": \"{\\\"find\\\": \\\"videos\\\", \\\"sort\\\": {\\\"_id\\\": 1}, \\\"limit\\\": 1, \\\"singleBatch\\\": true, \\\"lsid\\\": {\\\"id\\\": {\\\"$binary\\\": {\\\"base64\\\": \\\"cYjoZyJSRhyKX241Wcx8BQ==\\\", \\\"subType\\\": \\\"04\\\"}}}, \\\"$db\\\": \\\"database\\\"}\", \"commandName\": \"find\", \"databaseName\": \"database\", \"requestId\": 1726956429, \"operationId\": 1726956429, \"driverConnectionId\": 1, \"serverConnectionId\": 3, \"serverHost\": \"localhost\", \"serverPort\": 27017}\n",
      "2024-05-07 00:15:17 - DEBUG - {\"clientId\": {\"$oid\": \"6639567541eddcc0b49132b7\"}, \"message\": \"Command succeeded\", \"durationMS\": 1.624, \"reply\": \"{\\\"cursor\\\": {\\\"firstBatch\\\": [{\\\"_id\\\": \\\"049f08f0-5f64-4c4f-beb7-0c6430d98da0\\\", \\\"trajectory1\\\": {\\\"env_name\\\": \\\"CartPole-v1\\\", \\\"information\\\": {\\\"seed\\\": 42}, \\\"transitions\\\": [{\\\"state\\\": {\\\"array\\\": [0.02739560417830944, -0.006112155970185995, 0.03585979342460632, 0.019736802205443382]}, \\\"next_state\\\": {\\\"array\\\": [0.02727336250245571, -0.20172953605651855, 0.036254528909921646, 0.32351475954055786]}, \\\"reward\\\": 1.0}, {\\\"state\\\": {\\\"array\\\": [0.02727336250245571, -0.20172953605651855, 0.036254528909921646, 0.32351475954055786]}, \\\"action\\\": {\\\"array\\\": 1}, \\\"next_state\\\": {\\\"array\\\": [0.02323877066373825, -0.007142078131437302, 0.04272482171654701, 0.042481862008571625]}, \\\"reward\\\": 1.0}, {\\\"state\\\": {\\\"array\\\": [0.02323877066373825, -0.007142078131437302, 0.04272482171654701, 0.042481862008571625]}, \\\"next_state\\\": {\\\"array\\\": [0.023095929995179176, -0.20284982025623322, 0.043574459850788116, 0.34833285212516785]}, \\\"reward\\\": 1.0}, {\\\"state\\\": {\\\"array\\\": [0.023095929995179176, -0.20284982025623322, 0.043574459850788116, 0.348332...\", \"commandName\": \"find\", \"databaseName\": \"database\", \"requestId\": 1726956429, \"operationId\": 1726956429, \"driverConnectionId\": 1, \"serverConnectionId\": 3, \"serverHost\": \"localhost\", \"serverPort\": 27017}\n",
      "2024-05-07 00:15:17 - DEBUG - Found Entry in DB.\n"
     ]
    },
    {
     "name": "stdout",
     "output_type": "stream",
     "text": [
      "<class 'list'>\n"
     ]
    },
    {
     "ename": "TypeError",
     "evalue": "from_dict() got an unexpected keyword argument 'state'",
     "output_type": "error",
     "traceback": [
      "\u001b[0;31m---------------------------------------------------------------------------\u001b[0m",
      "\u001b[0;31mTypeError\u001b[0m                                 Traceback (most recent call last)",
      "Cell \u001b[0;32mIn[5], line 1\u001b[0m\n\u001b[0;32m----> 1\u001b[0m entry, error \u001b[38;5;241m=\u001b[39m \u001b[43mdb\u001b[49m\u001b[38;5;241;43m.\u001b[39;49m\u001b[43mget_next_entry\u001b[49m\u001b[43m(\u001b[49m\u001b[43m)\u001b[49m\n\u001b[1;32m      2\u001b[0m \u001b[38;5;28mprint\u001b[39m(error)\n\u001b[1;32m      3\u001b[0m \u001b[38;5;28mprint\u001b[39m(\u001b[38;5;28mtype\u001b[39m(entry[\u001b[38;5;124m'\u001b[39m\u001b[38;5;124mtrajectory1\u001b[39m\u001b[38;5;124m'\u001b[39m][\u001b[38;5;124m'\u001b[39m\u001b[38;5;124mtransitions\u001b[39m\u001b[38;5;124m'\u001b[39m][\u001b[38;5;241m0\u001b[39m][\u001b[38;5;124m'\u001b[39m\u001b[38;5;124mstate\u001b[39m\u001b[38;5;124m'\u001b[39m][\u001b[38;5;124m'\u001b[39m\u001b[38;5;124marray\u001b[39m\u001b[38;5;124m'\u001b[39m]))\n",
      "File \u001b[0;32m~/Code/RLDuels/rlduels/src/database/database_manager.py:196\u001b[0m, in \u001b[0;36mMongoDBManager.get_next_entry\u001b[0;34m(self)\u001b[0m\n\u001b[1;32m    193\u001b[0m     \u001b[38;5;28mself\u001b[39m\u001b[38;5;241m.\u001b[39mid_of_current_video \u001b[38;5;241m=\u001b[39m entry[\u001b[38;5;124m\"\u001b[39m\u001b[38;5;124m_id\u001b[39m\u001b[38;5;124m\"\u001b[39m]\n\u001b[1;32m    195\u001b[0m     entry[\u001b[38;5;124m'\u001b[39m\u001b[38;5;124mid\u001b[39m\u001b[38;5;124m'\u001b[39m] \u001b[38;5;241m=\u001b[39m entry\u001b[38;5;241m.\u001b[39mpop(\u001b[38;5;124m'\u001b[39m\u001b[38;5;124m_id\u001b[39m\u001b[38;5;124m'\u001b[39m) \u001b[38;5;66;03m# Rename as Pydantic expects id, not _id\u001b[39;00m\n\u001b[0;32m--> 196\u001b[0m     trajectory_pair \u001b[38;5;241m=\u001b[39m \u001b[43mTrajectoryPair\u001b[49m\u001b[38;5;241;43m.\u001b[39;49m\u001b[43mfrom_db\u001b[49m\u001b[43m(\u001b[49m\u001b[43mentry\u001b[49m\u001b[43m)\u001b[49m\n\u001b[1;32m    197\u001b[0m     \u001b[38;5;28;01mreturn\u001b[39;00m trajectory_pair, \u001b[38;5;28;01mNone\u001b[39;00m\n\u001b[1;32m    198\u001b[0m \u001b[38;5;28;01melse\u001b[39;00m:\n",
      "File \u001b[0;32m~/Code/RLDuels/rlduels/src/primitives/trajectory_pair.py:106\u001b[0m, in \u001b[0;36mTrajectoryPair.from_db\u001b[0;34m(cls, data)\u001b[0m\n\u001b[1;32m    104\u001b[0m     data[\u001b[38;5;124m'\u001b[39m\u001b[38;5;124mvideo2\u001b[39m\u001b[38;5;124m'\u001b[39m] \u001b[38;5;241m=\u001b[39m Path(data[\u001b[38;5;124m'\u001b[39m\u001b[38;5;124mvideo2\u001b[39m\u001b[38;5;124m'\u001b[39m]) \u001b[38;5;28;01mif\u001b[39;00m data[\u001b[38;5;124m'\u001b[39m\u001b[38;5;124mvideo2\u001b[39m\u001b[38;5;124m'\u001b[39m] \u001b[38;5;28;01melse\u001b[39;00m \u001b[38;5;28;01mNone\u001b[39;00m\n\u001b[1;32m    105\u001b[0m \u001b[38;5;28;01mif\u001b[39;00m \u001b[38;5;124m'\u001b[39m\u001b[38;5;124mtrajectory1\u001b[39m\u001b[38;5;124m'\u001b[39m \u001b[38;5;129;01min\u001b[39;00m data:\n\u001b[0;32m--> 106\u001b[0m     data[\u001b[38;5;124m'\u001b[39m\u001b[38;5;124mtrajectory1\u001b[39m\u001b[38;5;124m'\u001b[39m] \u001b[38;5;241m=\u001b[39m \u001b[43mTrajectory\u001b[49m\u001b[38;5;241;43m.\u001b[39;49m\u001b[43mfrom_dict\u001b[49m\u001b[43m(\u001b[49m\u001b[43mdata\u001b[49m\u001b[43m[\u001b[49m\u001b[38;5;124;43m'\u001b[39;49m\u001b[38;5;124;43mtrajectory1\u001b[39;49m\u001b[38;5;124;43m'\u001b[39;49m\u001b[43m]\u001b[49m\u001b[43m)\u001b[49m\n\u001b[1;32m    107\u001b[0m \u001b[38;5;28;01mif\u001b[39;00m \u001b[38;5;124m'\u001b[39m\u001b[38;5;124mtrajectory2\u001b[39m\u001b[38;5;124m'\u001b[39m \u001b[38;5;129;01min\u001b[39;00m data:\n\u001b[1;32m    108\u001b[0m     data[\u001b[38;5;124m'\u001b[39m\u001b[38;5;124mtrajectory2\u001b[39m\u001b[38;5;124m'\u001b[39m] \u001b[38;5;241m=\u001b[39m Trajectory\u001b[38;5;241m.\u001b[39mfrom_dict(data[\u001b[38;5;124m'\u001b[39m\u001b[38;5;124mtrajectory2\u001b[39m\u001b[38;5;124m'\u001b[39m])\n",
      "File \u001b[0;32m~/Code/RLDuels/rlduels/src/primitives/trajectory_pair.py:81\u001b[0m, in \u001b[0;36mTrajectory.from_dict\u001b[0;34m(cls, data)\u001b[0m\n\u001b[1;32m     79\u001b[0m \u001b[38;5;129m@classmethod\u001b[39m\n\u001b[1;32m     80\u001b[0m \u001b[38;5;28;01mdef\u001b[39;00m \u001b[38;5;21mfrom_dict\u001b[39m(\u001b[38;5;28mcls\u001b[39m, data: \u001b[38;5;28mdict\u001b[39m):\n\u001b[0;32m---> 81\u001b[0m     data[\u001b[38;5;124m'\u001b[39m\u001b[38;5;124mtransitions\u001b[39m\u001b[38;5;124m'\u001b[39m] \u001b[38;5;241m=\u001b[39m [Transition\u001b[38;5;241m.\u001b[39mfrom_dict(\u001b[38;5;241m*\u001b[39m\u001b[38;5;241m*\u001b[39mt) \u001b[38;5;28;01mif\u001b[39;00m \u001b[38;5;28misinstance\u001b[39m(t, \u001b[38;5;28mdict\u001b[39m) \u001b[38;5;28;01melse\u001b[39;00m t \u001b[38;5;28;01mfor\u001b[39;00m t \u001b[38;5;129;01min\u001b[39;00m data\u001b[38;5;241m.\u001b[39mget(\u001b[38;5;124m'\u001b[39m\u001b[38;5;124mtransitions\u001b[39m\u001b[38;5;124m'\u001b[39m, [])]\n\u001b[1;32m     82\u001b[0m     \u001b[38;5;28;01mreturn\u001b[39;00m \u001b[38;5;28mcls\u001b[39m(\u001b[38;5;241m*\u001b[39m\u001b[38;5;241m*\u001b[39mdata)\n",
      "File \u001b[0;32m~/Code/RLDuels/rlduels/src/primitives/trajectory_pair.py:81\u001b[0m, in \u001b[0;36m<listcomp>\u001b[0;34m(.0)\u001b[0m\n\u001b[1;32m     79\u001b[0m \u001b[38;5;129m@classmethod\u001b[39m\n\u001b[1;32m     80\u001b[0m \u001b[38;5;28;01mdef\u001b[39;00m \u001b[38;5;21mfrom_dict\u001b[39m(\u001b[38;5;28mcls\u001b[39m, data: \u001b[38;5;28mdict\u001b[39m):\n\u001b[0;32m---> 81\u001b[0m     data[\u001b[38;5;124m'\u001b[39m\u001b[38;5;124mtransitions\u001b[39m\u001b[38;5;124m'\u001b[39m] \u001b[38;5;241m=\u001b[39m [\u001b[43mTransition\u001b[49m\u001b[38;5;241;43m.\u001b[39;49m\u001b[43mfrom_dict\u001b[49m\u001b[43m(\u001b[49m\u001b[38;5;241;43m*\u001b[39;49m\u001b[38;5;241;43m*\u001b[39;49m\u001b[43mt\u001b[49m\u001b[43m)\u001b[49m \u001b[38;5;28;01mif\u001b[39;00m \u001b[38;5;28misinstance\u001b[39m(t, \u001b[38;5;28mdict\u001b[39m) \u001b[38;5;28;01melse\u001b[39;00m t \u001b[38;5;28;01mfor\u001b[39;00m t \u001b[38;5;129;01min\u001b[39;00m data\u001b[38;5;241m.\u001b[39mget(\u001b[38;5;124m'\u001b[39m\u001b[38;5;124mtransitions\u001b[39m\u001b[38;5;124m'\u001b[39m, [])]\n\u001b[1;32m     82\u001b[0m     \u001b[38;5;28;01mreturn\u001b[39;00m \u001b[38;5;28mcls\u001b[39m(\u001b[38;5;241m*\u001b[39m\u001b[38;5;241m*\u001b[39mdata)\n",
      "\u001b[0;31mTypeError\u001b[0m: from_dict() got an unexpected keyword argument 'state'"
     ]
    }
   ],
   "source": [
    "entry, error = db.get_next_entry()\n",
    "print(error)\n",
    "print(type(entry['trajectory1']['transitions'][0]['state']['array']))"
   ]
  },
  {
   "cell_type": "code",
   "execution_count": 5,
   "metadata": {},
   "outputs": [
    {
     "name": "stderr",
     "output_type": "stream",
     "text": [
      "2024-05-07 00:05:09 - DEBUG - Getting next entry.\n",
      "2024-05-07 00:05:09 - DEBUG - {\"message\": \"Server selection started\", \"selector\": \"Primary()\", \"operation\": \"find\", \"topologyDescription\": \"<TopologyDescription id: 6639541316586b09482f2f70, topology_type: Single, servers: [<ServerDescription ('localhost', 27017) server_type: Standalone, rtt: 0.0005682510018232279>]>\", \"clientId\": {\"$oid\": \"6639541316586b09482f2f70\"}}\n",
      "2024-05-07 00:05:09 - DEBUG - {\"message\": \"Server selection succeeded\", \"selector\": \"Primary()\", \"operation\": \"find\", \"topologyDescription\": \"<TopologyDescription id: 6639541316586b09482f2f70, topology_type: Single, servers: [<ServerDescription ('localhost', 27017) server_type: Standalone, rtt: 0.0005682510018232279>]>\", \"clientId\": {\"$oid\": \"6639541316586b09482f2f70\"}, \"serverHost\": \"localhost\", \"serverPort\": 27017}\n",
      "2024-05-07 00:05:09 - DEBUG - {\"clientId\": {\"$oid\": \"6639541316586b09482f2f70\"}, \"message\": \"Command started\", \"command\": \"{\\\"find\\\": \\\"videos\\\", \\\"sort\\\": {\\\"_id\\\": 1}, \\\"limit\\\": 1, \\\"singleBatch\\\": true, \\\"lsid\\\": {\\\"id\\\": {\\\"$binary\\\": {\\\"base64\\\": \\\"KyqgUav5SKCOukRWqlIjEg==\\\", \\\"subType\\\": \\\"04\\\"}}}, \\\"$db\\\": \\\"database\\\"}\", \"commandName\": \"find\", \"databaseName\": \"database\", \"requestId\": 1726956429, \"operationId\": 1726956429, \"driverConnectionId\": 1, \"serverConnectionId\": 3, \"serverHost\": \"localhost\", \"serverPort\": 27017}\n",
      "2024-05-07 00:05:09 - DEBUG - {\"clientId\": {\"$oid\": \"6639541316586b09482f2f70\"}, \"message\": \"Command succeeded\", \"durationMS\": 1.742, \"reply\": \"{\\\"cursor\\\": {\\\"firstBatch\\\": [{\\\"_id\\\": \\\"28caf9bb-1668-407c-98d9-9cc5a73f1fec\\\", \\\"trajectory1\\\": {\\\"env_name\\\": \\\"CartPole-v1\\\", \\\"information\\\": {\\\"seed\\\": 42}, \\\"transitions\\\": [{\\\"state\\\": {\\\"array\\\": [0.02739560417830944, -0.006112155970185995, 0.03585979342460632, 0.019736802205443382]}, \\\"action\\\": {\\\"array\\\": 1}, \\\"next_state\\\": {\\\"array\\\": [0.02727336250245571, 0.18847766518592834, 0.036254528909921646, -0.26141977310180664]}, \\\"reward\\\": 1.0}, {\\\"state\\\": {\\\"array\\\": [0.02727336250245571, 0.18847766518592834, 0.036254528909921646, -0.26141977310180664]}, \\\"next_state\\\": {\\\"array\\\": [0.0310429148375988, -0.007142550311982632, 0.03102613240480423, 0.04247424006462097]}, \\\"reward\\\": 1.0}, {\\\"state\\\": {\\\"array\\\": [0.0310429148375988, -0.007142550311982632, 0.03102613240480423, 0.04247424006462097]}, \\\"next_state\\\": {\\\"array\\\": [0.03090006485581398, -0.2026953548192978, 0.0318756178021431, 0.3447825014591217]}, \\\"reward\\\": 1.0}, {\\\"state\\\": {\\\"array\\\": [0.03090006485581398, -0.2026953548192978, 0.0318756178021431, 0.3447825014591217]},...\", \"commandName\": \"find\", \"databaseName\": \"database\", \"requestId\": 1726956429, \"operationId\": 1726956429, \"driverConnectionId\": 1, \"serverConnectionId\": 3, \"serverHost\": \"localhost\", \"serverPort\": 27017}\n",
      "2024-05-07 00:05:09 - DEBUG - Found Entry in DB.\n",
      "2024-05-07 00:05:09 - INFO - Couldn't fetch entry: An error occurred: 1 validation error for NDArray\n",
      "array\n",
      "  Input should be an instance of ndarray [type=is_instance_of, input_value=[0.02739560417830944, -0....2, 0.019736802205443382], input_type=list]\n",
      "    For further information visit https://errors.pydantic.dev/2.7/v/is_instance_of\n",
      "2024-05-07 00:05:11 - DEBUG - Getting next entry.\n",
      "2024-05-07 00:05:11 - DEBUG - {\"message\": \"Server selection started\", \"selector\": \"Primary()\", \"operation\": \"find\", \"topologyDescription\": \"<TopologyDescription id: 6639541316586b09482f2f70, topology_type: Single, servers: [<ServerDescription ('localhost', 27017) server_type: Standalone, rtt: 0.0005682510018232279>]>\", \"clientId\": {\"$oid\": \"6639541316586b09482f2f70\"}}\n",
      "2024-05-07 00:05:11 - DEBUG - {\"message\": \"Server selection succeeded\", \"selector\": \"Primary()\", \"operation\": \"find\", \"topologyDescription\": \"<TopologyDescription id: 6639541316586b09482f2f70, topology_type: Single, servers: [<ServerDescription ('localhost', 27017) server_type: Standalone, rtt: 0.0005682510018232279>]>\", \"clientId\": {\"$oid\": \"6639541316586b09482f2f70\"}, \"serverHost\": \"localhost\", \"serverPort\": 27017}\n",
      "2024-05-07 00:05:11 - DEBUG - {\"clientId\": {\"$oid\": \"6639541316586b09482f2f70\"}, \"message\": \"Command started\", \"command\": \"{\\\"find\\\": \\\"videos\\\", \\\"filter\\\": {\\\"_id\\\": {\\\"$gt\\\": \\\"28caf9bb-1668-407c-98d9-9cc5a73f1fec\\\"}}, \\\"sort\\\": {\\\"_id\\\": 1}, \\\"limit\\\": 1, \\\"singleBatch\\\": true, \\\"lsid\\\": {\\\"id\\\": {\\\"$binary\\\": {\\\"base64\\\": \\\"KyqgUav5SKCOukRWqlIjEg==\\\", \\\"subType\\\": \\\"04\\\"}}}, \\\"$db\\\": \\\"database\\\"}\", \"commandName\": \"find\", \"databaseName\": \"database\", \"requestId\": 336465782, \"operationId\": 336465782, \"driverConnectionId\": 1, \"serverConnectionId\": 3, \"serverHost\": \"localhost\", \"serverPort\": 27017}\n",
      "2024-05-07 00:05:11 - DEBUG - {\"clientId\": {\"$oid\": \"6639541316586b09482f2f70\"}, \"message\": \"Command succeeded\", \"durationMS\": 1.259, \"reply\": \"{\\\"cursor\\\": {\\\"firstBatch\\\": [{\\\"_id\\\": \\\"37865c86-47b8-44a8-ac9c-628b3ed4cdf9\\\", \\\"trajectory1\\\": {\\\"env_name\\\": \\\"CartPole-v1\\\", \\\"information\\\": {\\\"seed\\\": 42}, \\\"transitions\\\": [{\\\"state\\\": {\\\"array\\\": [0.02739560417830944, -0.006112155970185995, 0.03585979342460632, 0.019736802205443382]}, \\\"action\\\": {\\\"array\\\": 1}, \\\"next_state\\\": {\\\"array\\\": [0.02727336250245571, 0.18847766518592834, 0.036254528909921646, -0.26141977310180664]}, \\\"reward\\\": 1.0}, {\\\"state\\\": {\\\"array\\\": [0.02727336250245571, 0.18847766518592834, 0.036254528909921646, -0.26141977310180664]}, \\\"next_state\\\": {\\\"array\\\": [0.0310429148375988, -0.007142550311982632, 0.03102613240480423, 0.04247424006462097]}, \\\"reward\\\": 1.0}, {\\\"state\\\": {\\\"array\\\": [0.0310429148375988, -0.007142550311982632, 0.03102613240480423, 0.04247424006462097]}, \\\"action\\\": {\\\"array\\\": 1}, \\\"next_state\\\": {\\\"array\\\": [0.03090006485581398, 0.1875210702419281, 0.0318756178021431, -0.24026045203208923]}, \\\"reward\\\": 1.0}, {\\\"state\\\": {\\\"array\\\": [0.03090006485581398, 0.1875210702419281, 0.031875617802143...\", \"commandName\": \"find\", \"databaseName\": \"database\", \"requestId\": 336465782, \"operationId\": 336465782, \"driverConnectionId\": 1, \"serverConnectionId\": 3, \"serverHost\": \"localhost\", \"serverPort\": 27017}\n",
      "2024-05-07 00:05:11 - DEBUG - Found Entry in DB.\n",
      "2024-05-07 00:05:11 - INFO - Couldn't fetch entry: An error occurred: 1 validation error for NDArray\n",
      "array\n",
      "  Input should be an instance of ndarray [type=is_instance_of, input_value=[0.02739560417830944, -0....2, 0.019736802205443382], input_type=list]\n",
      "    For further information visit https://errors.pydantic.dev/2.7/v/is_instance_of\n",
      "2024-05-07 00:05:13 - DEBUG - Getting next entry.\n",
      "2024-05-07 00:05:13 - DEBUG - {\"message\": \"Server selection started\", \"selector\": \"Primary()\", \"operation\": \"find\", \"topologyDescription\": \"<TopologyDescription id: 6639541316586b09482f2f70, topology_type: Single, servers: [<ServerDescription ('localhost', 27017) server_type: Standalone, rtt: 0.0005682510018232279>]>\", \"clientId\": {\"$oid\": \"6639541316586b09482f2f70\"}}\n",
      "2024-05-07 00:05:13 - DEBUG - {\"message\": \"Server selection succeeded\", \"selector\": \"Primary()\", \"operation\": \"find\", \"topologyDescription\": \"<TopologyDescription id: 6639541316586b09482f2f70, topology_type: Single, servers: [<ServerDescription ('localhost', 27017) server_type: Standalone, rtt: 0.0005682510018232279>]>\", \"clientId\": {\"$oid\": \"6639541316586b09482f2f70\"}, \"serverHost\": \"localhost\", \"serverPort\": 27017}\n",
      "2024-05-07 00:05:13 - DEBUG - {\"clientId\": {\"$oid\": \"6639541316586b09482f2f70\"}, \"message\": \"Command started\", \"command\": \"{\\\"find\\\": \\\"videos\\\", \\\"filter\\\": {\\\"_id\\\": {\\\"$gt\\\": \\\"37865c86-47b8-44a8-ac9c-628b3ed4cdf9\\\"}}, \\\"sort\\\": {\\\"_id\\\": 1}, \\\"limit\\\": 1, \\\"singleBatch\\\": true, \\\"lsid\\\": {\\\"id\\\": {\\\"$binary\\\": {\\\"base64\\\": \\\"KyqgUav5SKCOukRWqlIjEg==\\\", \\\"subType\\\": \\\"04\\\"}}}, \\\"$db\\\": \\\"database\\\"}\", \"commandName\": \"find\", \"databaseName\": \"database\", \"requestId\": 861021530, \"operationId\": 861021530, \"driverConnectionId\": 1, \"serverConnectionId\": 3, \"serverHost\": \"localhost\", \"serverPort\": 27017}\n",
      "2024-05-07 00:05:13 - DEBUG - {\"clientId\": {\"$oid\": \"6639541316586b09482f2f70\"}, \"message\": \"Command succeeded\", \"durationMS\": 1.427, \"reply\": \"{\\\"cursor\\\": {\\\"firstBatch\\\": [{\\\"_id\\\": \\\"393ac2f3-fe34-4212-888e-f0f15db5c69f\\\", \\\"trajectory1\\\": {\\\"env_name\\\": \\\"CartPole-v1\\\", \\\"information\\\": {\\\"seed\\\": 42}, \\\"transitions\\\": [{\\\"state\\\": {\\\"array\\\": [0.02739560417830944, -0.006112155970185995, 0.03585979342460632, 0.019736802205443382]}, \\\"action\\\": {\\\"array\\\": 1}, \\\"next_state\\\": {\\\"array\\\": [0.02727336250245571, 0.18847766518592834, 0.036254528909921646, -0.26141977310180664]}, \\\"reward\\\": 1.0}, {\\\"state\\\": {\\\"array\\\": [0.02727336250245571, 0.18847766518592834, 0.036254528909921646, -0.26141977310180664]}, \\\"action\\\": {\\\"array\\\": 1}, \\\"next_state\\\": {\\\"array\\\": [0.0310429148375988, 0.3830638527870178, 0.03102613240480423, -0.5424507260322571]}, \\\"reward\\\": 1.0}, {\\\"state\\\": {\\\"array\\\": [0.0310429148375988, 0.3830638527870178, 0.03102613240480423, -0.5424507260322571]}, \\\"next_state\\\": {\\\"array\\\": [0.03870419040322304, 0.1875198930501938, 0.020177118480205536, -0.24015574157238007]}, \\\"reward\\\": 1.0}, {\\\"state\\\": {\\\"array\\\": [0.03870419040322304, 0.1875198930501938, 0.020177118480205536,...\", \"commandName\": \"find\", \"databaseName\": \"database\", \"requestId\": 861021530, \"operationId\": 861021530, \"driverConnectionId\": 1, \"serverConnectionId\": 3, \"serverHost\": \"localhost\", \"serverPort\": 27017}\n",
      "2024-05-07 00:05:13 - DEBUG - Found Entry in DB.\n",
      "2024-05-07 00:05:13 - INFO - Couldn't fetch entry: An error occurred: 1 validation error for NDArray\n",
      "array\n",
      "  Input should be an instance of ndarray [type=is_instance_of, input_value=[0.02739560417830944, -0....2, 0.019736802205443382], input_type=list]\n",
      "    For further information visit https://errors.pydantic.dev/2.7/v/is_instance_of\n",
      "2024-05-07 00:05:15 - DEBUG - Getting next entry.\n",
      "2024-05-07 00:05:15 - DEBUG - {\"message\": \"Server selection started\", \"selector\": \"Primary()\", \"operation\": \"find\", \"topologyDescription\": \"<TopologyDescription id: 6639541316586b09482f2f70, topology_type: Single, servers: [<ServerDescription ('localhost', 27017) server_type: Standalone, rtt: 0.0005682510018232279>]>\", \"clientId\": {\"$oid\": \"6639541316586b09482f2f70\"}}\n",
      "2024-05-07 00:05:15 - DEBUG - {\"message\": \"Server selection succeeded\", \"selector\": \"Primary()\", \"operation\": \"find\", \"topologyDescription\": \"<TopologyDescription id: 6639541316586b09482f2f70, topology_type: Single, servers: [<ServerDescription ('localhost', 27017) server_type: Standalone, rtt: 0.0005682510018232279>]>\", \"clientId\": {\"$oid\": \"6639541316586b09482f2f70\"}, \"serverHost\": \"localhost\", \"serverPort\": 27017}\n",
      "2024-05-07 00:05:15 - DEBUG - {\"clientId\": {\"$oid\": \"6639541316586b09482f2f70\"}, \"message\": \"Command started\", \"command\": \"{\\\"find\\\": \\\"videos\\\", \\\"filter\\\": {\\\"_id\\\": {\\\"$gt\\\": \\\"393ac2f3-fe34-4212-888e-f0f15db5c69f\\\"}}, \\\"sort\\\": {\\\"_id\\\": 1}, \\\"limit\\\": 1, \\\"singleBatch\\\": true, \\\"lsid\\\": {\\\"id\\\": {\\\"$binary\\\": {\\\"base64\\\": \\\"KyqgUav5SKCOukRWqlIjEg==\\\", \\\"subType\\\": \\\"04\\\"}}}, \\\"$db\\\": \\\"database\\\"}\", \"commandName\": \"find\", \"databaseName\": \"database\", \"requestId\": 278722862, \"operationId\": 278722862, \"driverConnectionId\": 1, \"serverConnectionId\": 3, \"serverHost\": \"localhost\", \"serverPort\": 27017}\n",
      "2024-05-07 00:05:15 - DEBUG - {\"clientId\": {\"$oid\": \"6639541316586b09482f2f70\"}, \"message\": \"Command succeeded\", \"durationMS\": 1.365, \"reply\": \"{\\\"cursor\\\": {\\\"firstBatch\\\": [{\\\"_id\\\": \\\"617a8342-400a-40fa-b367-52550ff8708a\\\", \\\"trajectory1\\\": {\\\"env_name\\\": \\\"CartPole-v1\\\", \\\"information\\\": {\\\"seed\\\": 42}, \\\"transitions\\\": [{\\\"state\\\": {\\\"array\\\": [0.02739560417830944, -0.006112155970185995, 0.03585979342460632, 0.019736802205443382]}, \\\"next_state\\\": {\\\"array\\\": [0.02727336250245571, -0.20172953605651855, 0.036254528909921646, 0.32351475954055786]}, \\\"reward\\\": 1.0}, {\\\"state\\\": {\\\"array\\\": [0.02727336250245571, -0.20172953605651855, 0.036254528909921646, 0.32351475954055786]}, \\\"action\\\": {\\\"array\\\": 1}, \\\"next_state\\\": {\\\"array\\\": [0.02323877066373825, -0.007142078131437302, 0.04272482171654701, 0.042481862008571625]}, \\\"reward\\\": 1.0}, {\\\"state\\\": {\\\"array\\\": [0.02323877066373825, -0.007142078131437302, 0.04272482171654701, 0.042481862008571625]}, \\\"next_state\\\": {\\\"array\\\": [0.023095929995179176, -0.20284982025623322, 0.043574459850788116, 0.34833285212516785]}, \\\"reward\\\": 1.0}, {\\\"state\\\": {\\\"array\\\": [0.023095929995179176, -0.20284982025623322, 0.043574459850788116, 0.348332...\", \"commandName\": \"find\", \"databaseName\": \"database\", \"requestId\": 278722862, \"operationId\": 278722862, \"driverConnectionId\": 1, \"serverConnectionId\": 3, \"serverHost\": \"localhost\", \"serverPort\": 27017}\n",
      "2024-05-07 00:05:15 - DEBUG - Found Entry in DB.\n",
      "2024-05-07 00:05:15 - INFO - Couldn't fetch entry: An error occurred: 1 validation error for NDArray\n",
      "array\n",
      "  Input should be an instance of ndarray [type=is_instance_of, input_value=[0.02739560417830944, -0....2, 0.019736802205443382], input_type=list]\n",
      "    For further information visit https://errors.pydantic.dev/2.7/v/is_instance_of\n",
      "2024-05-07 00:05:17 - DEBUG - Getting next entry.\n",
      "2024-05-07 00:05:17 - DEBUG - {\"message\": \"Server selection started\", \"selector\": \"Primary()\", \"operation\": \"find\", \"topologyDescription\": \"<TopologyDescription id: 6639541316586b09482f2f70, topology_type: Single, servers: [<ServerDescription ('localhost', 27017) server_type: Standalone, rtt: 0.000588425001478754>]>\", \"clientId\": {\"$oid\": \"6639541316586b09482f2f70\"}}\n",
      "2024-05-07 00:05:17 - DEBUG - {\"message\": \"Server selection succeeded\", \"selector\": \"Primary()\", \"operation\": \"find\", \"topologyDescription\": \"<TopologyDescription id: 6639541316586b09482f2f70, topology_type: Single, servers: [<ServerDescription ('localhost', 27017) server_type: Standalone, rtt: 0.000588425001478754>]>\", \"clientId\": {\"$oid\": \"6639541316586b09482f2f70\"}, \"serverHost\": \"localhost\", \"serverPort\": 27017}\n",
      "2024-05-07 00:05:17 - DEBUG - {\"clientId\": {\"$oid\": \"6639541316586b09482f2f70\"}, \"message\": \"Command started\", \"command\": \"{\\\"find\\\": \\\"videos\\\", \\\"filter\\\": {\\\"_id\\\": {\\\"$gt\\\": \\\"617a8342-400a-40fa-b367-52550ff8708a\\\"}}, \\\"sort\\\": {\\\"_id\\\": 1}, \\\"limit\\\": 1, \\\"singleBatch\\\": true, \\\"lsid\\\": {\\\"id\\\": {\\\"$binary\\\": {\\\"base64\\\": \\\"KyqgUav5SKCOukRWqlIjEg==\\\", \\\"subType\\\": \\\"04\\\"}}}, \\\"$db\\\": \\\"database\\\"}\", \"commandName\": \"find\", \"databaseName\": \"database\", \"requestId\": 2145174067, \"operationId\": 2145174067, \"driverConnectionId\": 1, \"serverConnectionId\": 3, \"serverHost\": \"localhost\", \"serverPort\": 27017}\n",
      "2024-05-07 00:05:17 - DEBUG - {\"clientId\": {\"$oid\": \"6639541316586b09482f2f70\"}, \"message\": \"Command succeeded\", \"durationMS\": 1.4009999999999998, \"reply\": \"{\\\"cursor\\\": {\\\"firstBatch\\\": [{\\\"_id\\\": \\\"7b949e43-5e99-457b-b218-bd6692ad6e25\\\", \\\"trajectory1\\\": {\\\"env_name\\\": \\\"CartPole-v1\\\", \\\"information\\\": {\\\"seed\\\": 42}, \\\"transitions\\\": [{\\\"state\\\": {\\\"array\\\": [0.02739560417830944, -0.006112155970185995, 0.03585979342460632, 0.019736802205443382]}, \\\"action\\\": {\\\"array\\\": 1}, \\\"next_state\\\": {\\\"array\\\": [0.02727336250245571, 0.18847766518592834, 0.036254528909921646, -0.26141977310180664]}, \\\"reward\\\": 1.0}, {\\\"state\\\": {\\\"array\\\": [0.02727336250245571, 0.18847766518592834, 0.036254528909921646, -0.26141977310180664]}, \\\"action\\\": {\\\"array\\\": 1}, \\\"next_state\\\": {\\\"array\\\": [0.0310429148375988, 0.3830638527870178, 0.03102613240480423, -0.5424507260322571]}, \\\"reward\\\": 1.0}, {\\\"state\\\": {\\\"array\\\": [0.0310429148375988, 0.3830638527870178, 0.03102613240480423, -0.5424507260322571]}, \\\"next_state\\\": {\\\"array\\\": [0.03870419040322304, 0.1875198930501938, 0.020177118480205536, -0.24015574157238007]}, \\\"reward\\\": 1.0}, {\\\"state\\\": {\\\"array\\\": [0.03870419040322304, 0.1875198930501938, 0.020177118480205536,...\", \"commandName\": \"find\", \"databaseName\": \"database\", \"requestId\": 2145174067, \"operationId\": 2145174067, \"driverConnectionId\": 1, \"serverConnectionId\": 3, \"serverHost\": \"localhost\", \"serverPort\": 27017}\n",
      "2024-05-07 00:05:17 - DEBUG - Found Entry in DB.\n",
      "2024-05-07 00:05:17 - INFO - Couldn't fetch entry: An error occurred: 1 validation error for NDArray\n",
      "array\n",
      "  Input should be an instance of ndarray [type=is_instance_of, input_value=[0.02739560417830944, -0....2, 0.019736802205443382], input_type=list]\n",
      "    For further information visit https://errors.pydantic.dev/2.7/v/is_instance_of\n",
      "2024-05-07 00:05:19 - DEBUG - Getting next entry.\n",
      "2024-05-07 00:05:19 - DEBUG - {\"message\": \"Server selection started\", \"selector\": \"Primary()\", \"operation\": \"find\", \"topologyDescription\": \"<TopologyDescription id: 6639541316586b09482f2f70, topology_type: Single, servers: [<ServerDescription ('localhost', 27017) server_type: Standalone, rtt: 0.000588425001478754>]>\", \"clientId\": {\"$oid\": \"6639541316586b09482f2f70\"}}\n",
      "2024-05-07 00:05:19 - DEBUG - {\"message\": \"Server selection succeeded\", \"selector\": \"Primary()\", \"operation\": \"find\", \"topologyDescription\": \"<TopologyDescription id: 6639541316586b09482f2f70, topology_type: Single, servers: [<ServerDescription ('localhost', 27017) server_type: Standalone, rtt: 0.000588425001478754>]>\", \"clientId\": {\"$oid\": \"6639541316586b09482f2f70\"}, \"serverHost\": \"localhost\", \"serverPort\": 27017}\n",
      "2024-05-07 00:05:19 - DEBUG - {\"clientId\": {\"$oid\": \"6639541316586b09482f2f70\"}, \"message\": \"Command started\", \"command\": \"{\\\"find\\\": \\\"videos\\\", \\\"filter\\\": {\\\"_id\\\": {\\\"$gt\\\": \\\"7b949e43-5e99-457b-b218-bd6692ad6e25\\\"}}, \\\"sort\\\": {\\\"_id\\\": 1}, \\\"limit\\\": 1, \\\"singleBatch\\\": true, \\\"lsid\\\": {\\\"id\\\": {\\\"$binary\\\": {\\\"base64\\\": \\\"KyqgUav5SKCOukRWqlIjEg==\\\", \\\"subType\\\": \\\"04\\\"}}}, \\\"$db\\\": \\\"database\\\"}\", \"commandName\": \"find\", \"databaseName\": \"database\", \"requestId\": 468703135, \"operationId\": 468703135, \"driverConnectionId\": 1, \"serverConnectionId\": 3, \"serverHost\": \"localhost\", \"serverPort\": 27017}\n",
      "2024-05-07 00:05:19 - DEBUG - {\"clientId\": {\"$oid\": \"6639541316586b09482f2f70\"}, \"message\": \"Command succeeded\", \"durationMS\": 1.341, \"reply\": \"{\\\"cursor\\\": {\\\"firstBatch\\\": [{\\\"_id\\\": \\\"8a06b46c-675a-4748-b472-8cccc2a8a815\\\", \\\"trajectory1\\\": {\\\"env_name\\\": \\\"CartPole-v1\\\", \\\"information\\\": {\\\"seed\\\": 42}, \\\"transitions\\\": [{\\\"state\\\": {\\\"array\\\": [0.02739560417830944, -0.006112155970185995, 0.03585979342460632, 0.019736802205443382]}, \\\"action\\\": {\\\"array\\\": 1}, \\\"next_state\\\": {\\\"array\\\": [0.02727336250245571, 0.18847766518592834, 0.036254528909921646, -0.26141977310180664]}, \\\"reward\\\": 1.0}, {\\\"state\\\": {\\\"array\\\": [0.02727336250245571, 0.18847766518592834, 0.036254528909921646, -0.26141977310180664]}, \\\"action\\\": {\\\"array\\\": 1}, \\\"next_state\\\": {\\\"array\\\": [0.0310429148375988, 0.3830638527870178, 0.03102613240480423, -0.5424507260322571]}, \\\"reward\\\": 1.0}, {\\\"state\\\": {\\\"array\\\": [0.0310429148375988, 0.3830638527870178, 0.03102613240480423, -0.5424507260322571]}, \\\"action\\\": {\\\"array\\\": 1}, \\\"next_state\\\": {\\\"array\\\": [0.03870419040322304, 0.5777363181114197, 0.020177118480205536, -0.8251987099647522]}, \\\"reward\\\": 1.0}, {\\\"state\\\": {\\\"array\\\": [0.03870419040322304, 0.5777363181114197...\", \"commandName\": \"find\", \"databaseName\": \"database\", \"requestId\": 468703135, \"operationId\": 468703135, \"driverConnectionId\": 1, \"serverConnectionId\": 3, \"serverHost\": \"localhost\", \"serverPort\": 27017}\n",
      "2024-05-07 00:05:19 - DEBUG - Found Entry in DB.\n",
      "2024-05-07 00:05:19 - INFO - Couldn't fetch entry: An error occurred: 1 validation error for NDArray\n",
      "array\n",
      "  Input should be an instance of ndarray [type=is_instance_of, input_value=[0.02739560417830944, -0....2, 0.019736802205443382], input_type=list]\n",
      "    For further information visit https://errors.pydantic.dev/2.7/v/is_instance_of\n",
      "2024-05-07 00:05:21 - DEBUG - Getting next entry.\n",
      "2024-05-07 00:05:21 - DEBUG - {\"message\": \"Server selection started\", \"selector\": \"Primary()\", \"operation\": \"find\", \"topologyDescription\": \"<TopologyDescription id: 6639541316586b09482f2f70, topology_type: Single, servers: [<ServerDescription ('localhost', 27017) server_type: Standalone, rtt: 0.000588425001478754>]>\", \"clientId\": {\"$oid\": \"6639541316586b09482f2f70\"}}\n",
      "2024-05-07 00:05:21 - DEBUG - {\"message\": \"Server selection succeeded\", \"selector\": \"Primary()\", \"operation\": \"find\", \"topologyDescription\": \"<TopologyDescription id: 6639541316586b09482f2f70, topology_type: Single, servers: [<ServerDescription ('localhost', 27017) server_type: Standalone, rtt: 0.000588425001478754>]>\", \"clientId\": {\"$oid\": \"6639541316586b09482f2f70\"}, \"serverHost\": \"localhost\", \"serverPort\": 27017}\n",
      "2024-05-07 00:05:21 - DEBUG - {\"clientId\": {\"$oid\": \"6639541316586b09482f2f70\"}, \"message\": \"Command started\", \"command\": \"{\\\"find\\\": \\\"videos\\\", \\\"filter\\\": {\\\"_id\\\": {\\\"$gt\\\": \\\"8a06b46c-675a-4748-b472-8cccc2a8a815\\\"}}, \\\"sort\\\": {\\\"_id\\\": 1}, \\\"limit\\\": 1, \\\"singleBatch\\\": true, \\\"lsid\\\": {\\\"id\\\": {\\\"$binary\\\": {\\\"base64\\\": \\\"KyqgUav5SKCOukRWqlIjEg==\\\", \\\"subType\\\": \\\"04\\\"}}}, \\\"$db\\\": \\\"database\\\"}\", \"commandName\": \"find\", \"databaseName\": \"database\", \"requestId\": 1101513929, \"operationId\": 1101513929, \"driverConnectionId\": 1, \"serverConnectionId\": 3, \"serverHost\": \"localhost\", \"serverPort\": 27017}\n",
      "2024-05-07 00:05:21 - DEBUG - {\"clientId\": {\"$oid\": \"6639541316586b09482f2f70\"}, \"message\": \"Command succeeded\", \"durationMS\": 1.84, \"reply\": \"{\\\"cursor\\\": {\\\"firstBatch\\\": [{\\\"_id\\\": \\\"8db64ebf-9b13-427f-81e1-5a53ced64e10\\\", \\\"trajectory1\\\": {\\\"env_name\\\": \\\"CartPole-v1\\\", \\\"information\\\": {\\\"seed\\\": 42}, \\\"transitions\\\": [{\\\"state\\\": {\\\"array\\\": [0.02739560417830944, -0.006112155970185995, 0.03585979342460632, 0.019736802205443382]}, \\\"action\\\": {\\\"array\\\": 1}, \\\"next_state\\\": {\\\"array\\\": [0.02727336250245571, 0.18847766518592834, 0.036254528909921646, -0.26141977310180664]}, \\\"reward\\\": 1.0}, {\\\"state\\\": {\\\"array\\\": [0.02727336250245571, 0.18847766518592834, 0.036254528909921646, -0.26141977310180664]}, \\\"next_state\\\": {\\\"array\\\": [0.0310429148375988, -0.007142550311982632, 0.03102613240480423, 0.04247424006462097]}, \\\"reward\\\": 1.0}, {\\\"state\\\": {\\\"array\\\": [0.0310429148375988, -0.007142550311982632, 0.03102613240480423, 0.04247424006462097]}, \\\"next_state\\\": {\\\"array\\\": [0.03090006485581398, -0.2026953548192978, 0.0318756178021431, 0.3447825014591217]}, \\\"reward\\\": 1.0}, {\\\"state\\\": {\\\"array\\\": [0.03090006485581398, -0.2026953548192978, 0.0318756178021431, 0.3447825014591217]},...\", \"commandName\": \"find\", \"databaseName\": \"database\", \"requestId\": 1101513929, \"operationId\": 1101513929, \"driverConnectionId\": 1, \"serverConnectionId\": 3, \"serverHost\": \"localhost\", \"serverPort\": 27017}\n",
      "2024-05-07 00:05:21 - DEBUG - Found Entry in DB.\n",
      "2024-05-07 00:05:21 - INFO - Couldn't fetch entry: An error occurred: 1 validation error for NDArray\n",
      "array\n",
      "  Input should be an instance of ndarray [type=is_instance_of, input_value=[0.02739560417830944, -0....2, 0.019736802205443382], input_type=list]\n",
      "    For further information visit https://errors.pydantic.dev/2.7/v/is_instance_of\n"
     ]
    },
    {
     "ename": "KeyboardInterrupt",
     "evalue": "",
     "output_type": "error",
     "traceback": [
      "\u001b[0;31m---------------------------------------------------------------------------\u001b[0m",
      "\u001b[0;31mKeyboardInterrupt\u001b[0m                         Traceback (most recent call last)",
      "Cell \u001b[0;32mIn[5], line 1\u001b[0m\n\u001b[0;32m----> 1\u001b[0m buffered_queue \u001b[38;5;241m=\u001b[39m \u001b[43mBufferedQueueManager\u001b[49m\u001b[43m(\u001b[49m\u001b[43mdb_manager\u001b[49m\u001b[38;5;241;43m=\u001b[39;49m\u001b[43mdb\u001b[49m\u001b[43m,\u001b[49m\u001b[43m \u001b[49m\u001b[43mn\u001b[49m\u001b[38;5;241;43m=\u001b[39;49m\u001b[38;5;241;43m2\u001b[39;49m\u001b[43m,\u001b[49m\u001b[43m \u001b[49m\u001b[43mdaemon\u001b[49m\u001b[38;5;241;43m=\u001b[39;49m\u001b[38;5;28;43;01mFalse\u001b[39;49;00m\u001b[43m)\u001b[49m\n",
      "File \u001b[0;32m~/Code/RLDuels/rlduels/src/buffered_queue_manager.py:45\u001b[0m, in \u001b[0;36mBufferedQueueManager.__init__\u001b[0;34m(self, db_manager, n, sleep_interval, daemon)\u001b[0m\n\u001b[1;32m     43\u001b[0m     \u001b[38;5;28mself\u001b[39m\u001b[38;5;241m.\u001b[39mrefilling_thread\u001b[38;5;241m.\u001b[39mstart()\n\u001b[1;32m     44\u001b[0m \u001b[38;5;28;01melse\u001b[39;00m:\n\u001b[0;32m---> 45\u001b[0m     \u001b[38;5;28;43mself\u001b[39;49m\u001b[38;5;241;43m.\u001b[39;49m\u001b[43mrefill_loop\u001b[49m\u001b[43m(\u001b[49m\u001b[43m)\u001b[49m\n",
      "File \u001b[0;32m~/Code/RLDuels/rlduels/src/buffered_queue_manager.py:61\u001b[0m, in \u001b[0;36mBufferedQueueManager.refill_loop\u001b[0;34m(self)\u001b[0m\n\u001b[1;32m     59\u001b[0m     \u001b[38;5;28;01melse\u001b[39;00m:\n\u001b[1;32m     60\u001b[0m         logging\u001b[38;5;241m.\u001b[39minfo(\u001b[38;5;124mf\u001b[39m\u001b[38;5;124m\"\u001b[39m\u001b[38;5;124mCouldn\u001b[39m\u001b[38;5;124m'\u001b[39m\u001b[38;5;124mt fetch entry: \u001b[39m\u001b[38;5;132;01m{\u001b[39;00merror\u001b[38;5;132;01m}\u001b[39;00m\u001b[38;5;124m\"\u001b[39m)\n\u001b[0;32m---> 61\u001b[0m         \u001b[43mtime\u001b[49m\u001b[38;5;241;43m.\u001b[39;49m\u001b[43msleep\u001b[49m\u001b[43m(\u001b[49m\u001b[38;5;28;43mself\u001b[39;49m\u001b[38;5;241;43m.\u001b[39;49m\u001b[43msleep_interval\u001b[49m\u001b[43m)\u001b[49m \u001b[38;5;66;03m#TODO: check if it can be removed\u001b[39;00m\n\u001b[1;32m     62\u001b[0m time\u001b[38;5;241m.\u001b[39msleep(\u001b[38;5;28mself\u001b[39m\u001b[38;5;241m.\u001b[39msleep_interval)\n",
      "\u001b[0;31mKeyboardInterrupt\u001b[0m: "
     ]
    }
   ],
   "source": [
    "buffered_queue = BufferedQueueManager(db_manager=db, n=2, daemon=False)"
   ]
  },
  {
   "cell_type": "code",
   "execution_count": null,
   "metadata": {},
   "outputs": [],
   "source": []
  },
  {
   "cell_type": "code",
   "execution_count": null,
   "metadata": {},
   "outputs": [],
   "source": []
  }
 ],
 "metadata": {
  "kernelspec": {
   "display_name": "rlduels",
   "language": "python",
   "name": "python3"
  },
  "language_info": {
   "codemirror_mode": {
    "name": "ipython",
    "version": 3
   },
   "file_extension": ".py",
   "mimetype": "text/x-python",
   "name": "python",
   "nbconvert_exporter": "python",
   "pygments_lexer": "ipython3",
   "version": "3.8.18"
  }
 },
 "nbformat": 4,
 "nbformat_minor": 2
}
