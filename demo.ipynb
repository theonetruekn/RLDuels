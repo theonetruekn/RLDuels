{
 "cells": [
  {
   "cell_type": "markdown",
   "metadata": {},
   "source": [
    "# Example usage\n",
    "\n",
    "Say you have your training routine where at some point you need to collect preferences for trajectories.\n",
    "\n",
    "First, you need to create a `PreferenceCollector`. To do this, you need to implement the `parse_trajs` method, which takes in the trajectory pairs in your data format and converts them to our format.\n",
    "\n",
    "Below is an example implementation"
   ]
  },
  {
   "cell_type": "code",
   "execution_count": null,
   "metadata": {},
   "outputs": [],
   "source": [
    "from rlduels.src.preference_collector import PreferenceCollector\n",
    "\n",
    "class MyPreferenceCollector(PreferenceCollector):\n",
    "    def __init__(self):\n",
    "        super.__init__()\n",
    "    \n",
    "    def parse_inputs(self, **kwargs):\n",
    "        "
   ]
  }
 ],
 "metadata": {
  "kernelspec": {
   "display_name": "rlduels",
   "language": "python",
   "name": "python3"
  },
  "language_info": {
   "codemirror_mode": {
    "name": "ipython",
    "version": 3
   },
   "file_extension": ".py",
   "mimetype": "text/x-python",
   "name": "python",
   "nbconvert_exporter": "python",
   "pygments_lexer": "ipython3",
   "version": "3.8.18"
  }
 },
 "nbformat": 4,
 "nbformat_minor": 2
}
