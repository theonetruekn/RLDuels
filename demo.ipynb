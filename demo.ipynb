{
 "cells": [
  {
   "cell_type": "markdown",
   "metadata": {},
   "source": [
    "# Example usage\n",
    "\n",
    "Say you have your training routine where at some point you need to collect preferences for trajectories. First, you need to implement our adapter class, which just needs the `parse_inputs()` method."
   ]
  },
  {
   "cell_type": "code",
   "execution_count": null,
   "metadata": {},
   "outputs": [],
   "source": [
    "from src.run import Adapter\n",
    "\n",
    "class My_Adapter(Adapter):\n",
    "\n",
    "    def parse_inputs():\n",
    "        pass\n",
    "\n",
    "adapter = My_Adapter()"
   ]
  }
 ],
 "metadata": {
  "kernelspec": {
   "display_name": "rlduels",
   "language": "python",
   "name": "python3"
  },
  "language_info": {
   "codemirror_mode": {
    "name": "ipython",
    "version": 3
   },
   "file_extension": ".py",
   "mimetype": "text/x-python",
   "name": "python",
   "nbconvert_exporter": "python",
   "pygments_lexer": "ipython3",
   "version": "3.8.18"
  }
 },
 "nbformat": 4,
 "nbformat_minor": 2
}
